{
 "cells": [
  {
   "cell_type": "markdown",
   "id": "c84fa663",
   "metadata": {},
   "source": [
    "# Проект \"Приоритизация гипотез и анализ результатов А/В-теста\""
   ]
  },
  {
   "cell_type": "markdown",
   "id": "0791cc9a",
   "metadata": {},
   "source": [
    "### ЗАДАНИЕ"
   ]
  },
  {
   "cell_type": "markdown",
   "id": "03b378dd",
   "metadata": {},
   "source": [
    "#### **Описание данных**\n",
    "\n",
    "**Данные для первой части:**  \n",
    "Путь к файлу у ревьюера: \"/datasets/hypothesis.csv\".   \n",
    "`Hypothesis` — краткое описание гипотезы;  \n",
    "`Reach` — охват пользователей по 10-балльной шкале;  \n",
    "`Impact` — влияние на пользователей по 10-балльной шкале;  \n",
    "`Confidence` — уверенность в гипотезе по 10-балльной шкале;  \n",
    "`Efforts` — затраты ресурсов на проверку гипотезы по 10-балльной шкале. Чем больше значение Efforts, тем дороже проверка гипотезы.  \n",
    "\n",
    "**Данные для второй части:**  \n",
    "Путь к файлу у ревьюера: \"/datasets/orders.csv\".   \n",
    "`transactionId` — идентификатор заказа;  \n",
    "`visitorId` — идентификатор пользователя, совершившего заказ;  \n",
    "`date` — дата, когда был совершён заказ;  \n",
    "`revenue` — выручка заказа;  \n",
    "`group` — группа A/B-теста, в которую попал заказ.  \n",
    "\n",
    "Путь к файлу у ревьюера: \"/datasets/visitors.csv\".   \n",
    "`date` — дата;  \n",
    "`group` — группа A/B-теста;  \n",
    "`visitors` — количество пользователей в указанную дату в указанной группе A/B-теста.  \n",
    "\n",
    "#### **Описание проекта**  \n",
    "\n",
    "**Часть 1. Приоритизация гипотез.**  \n",
    "В файле \"/datasets/hypothesis.csv\" 9 гипотез по увеличению выручки интернет-магазина с указанными параметрами Reach, Impact, Confidence, Effort.  \n",
    "\n",
    "**Задача**  \n",
    "Примените фреймворки ICE и RICE для приоритизации гипотез. Сравните результаты.\n",
    "\n",
    "**Часть 2. Анализ A/B-теста**  \n",
    "Результаты проведённого A/B-теста в файлах \"/datasets/orders.csv\" и \"/datasets/visitors.csv\".  \n",
    "\n",
    "**Задача**  \n",
    "Выполните анализ результатом A/B-теста:  \n",
    "а) Постройте график кумулятивной выручки в зависимости от группы.  \n",
    "б) Постройте график кумулятивного среднего чека в зависимости от группы.  \n",
    "в) Постройте график относительного изменения кумулятивного среднего чека группы B к группе A.  \n",
    "г) Постройте график кумулятивной конверсии в зависимости от группы.   \n",
    "д) Постройте график относительного изменения кумулятивной конверсии группы B к группе A.   \n",
    "е) Постройте точечный график количества заказов по пользователям.   \n",
    "ж) Посчитайте 95-й и 99-й перцентили количества заказов на пользователя. Выберите границу для определения аномальных пользователей.    \n",
    "и) Постройте диаграмму распределения стоимостей заказов.   \n",
    "к) Посчитайте 95-й и 99-й перцентили стоимости заказов. Выберите границу для определения аномальных заказов.    \n",
    "л) Посчитайте статистическую значимость различий в конверсии между группами по «сырым» данным.     \n",
    "м) Посчитайте статистическую значимость различий в среднем чеке заказа между группами по «сырым» данным.   \n",
    "н) Посчитайте статистическую значимость различий в конверсии между группами по «очищенным» данным.   \n",
    "п) Посчитайте статистическую значимость различий в среднем чеке заказа между группами по «очищенным» данным.   \n",
    "р) Примите решение по результатам теста и объясните его. Варианты решений: 1. Остановить тест, зафиксировать победу одной из групп. 2. Остановить тест, зафиксировать отсутствие различий между группами. 3. Продолжить тест."
   ]
  },
  {
   "cell_type": "markdown",
   "id": "6a246863",
   "metadata": {},
   "source": [
    "### СОДЕРЖАНИЕ"
   ]
  },
  {
   "cell_type": "markdown",
   "id": "3d2dbc35",
   "metadata": {},
   "source": [
    "### Часть 0. Подготовка данных\n",
    "#### 0.1 Датасет HYPOTHESIS (HYPO)\n",
    "#### 0.2 Датасет ORDERS\n",
    "#### 0.3 Датасет VISITORS (VISI)"
   ]
  },
  {
   "cell_type": "markdown",
   "id": "0db995e8",
   "metadata": {},
   "source": [
    "### Часть 1. Приоритизация гипотез"
   ]
  },
  {
   "cell_type": "markdown",
   "id": "c94bc326",
   "metadata": {},
   "source": [
    "### Часть 2. Анализ A/B-теста\n",
    "#### а) Графики кумулятивной выручки по группам\n",
    "#### б) Графики кумулятивного среднего чека по группам\n",
    "#### в) График относительного изменения кумулятивного среднего чека группы B к группе A\n",
    "#### г) Графики кумулятивной конверсии по группам\n",
    "#### д) График относительного изменения кумулятивной конверсии группы B к группе A\n",
    "#### е) Точечный график количества заказов по пользователям\n",
    "#### ж) 95-й и 99-й перцентили количества заказов на пользователя\n",
    "#### и) Диаграмма распределения стоимостей заказов\n",
    "#### к) 95-й и 99-й перцентили стоимости заказов\n",
    "#### л) Статистическая значимость различий в конверсии между группами по «сырым» данным\n",
    "#### м) Статистическая значимость различий в среднем чеке заказа между группами по «сырым» данным\n",
    "#### н) Статистическая значимость различий в конверсии между группами по «очищенным» данным\n",
    "#### п) Статистическая значимость различий в среднем чеке заказа между группами по «очищенным» данным\n",
    "#### р) Решение по результатам теста"
   ]
  },
  {
   "cell_type": "markdown",
   "id": "d37b5bc1",
   "metadata": {},
   "source": [
    "### Вывод"
   ]
  },
  {
   "cell_type": "markdown",
   "id": "e6e6bc81",
   "metadata": {},
   "source": [
    "<a id='p0'></a>\n",
    "## Часть 0. Подготовка данных"
   ]
  },
  {
   "cell_type": "code",
   "execution_count": 1,
   "id": "e8e2dda1",
   "metadata": {},
   "outputs": [],
   "source": [
    "import pandas as pd\n",
    "import seaborn as sns\n",
    "import numpy as np\n",
    "import matplotlib.pyplot as plt\n",
    "import os\n",
    "from datetime import datetime, timedelta\n",
    "import scipy.stats as stats\n",
    "from collections import Counter"
   ]
  },
  {
   "cell_type": "code",
   "execution_count": 2,
   "id": "48a55b03",
   "metadata": {},
   "outputs": [],
   "source": [
    "pth1 = '/datasets/hypothesis.csv'\n",
    "pth2 = 'D:/ab_test_project/hypothesis.csv'\n",
    "\n",
    "if os.path.exists(pth1):\n",
    "    hypo = pd.read_csv(pth1)\n",
    "elif os.path.exists(pth2):\n",
    "    hypo = pd.read_csv(pth2)\n",
    "else:\n",
    "    print('Ошибка месторасположения csv-файла \"hypothesis\"')\n",
    "    \n",
    "pth3 = '/datasets/orders.csv'\n",
    "pth4 = 'D:/ab_test_project/orders.csv'\n",
    "\n",
    "if os.path.exists(pth3):\n",
    "    orders = pd.read_csv(pth3)\n",
    "elif os.path.exists(pth4):\n",
    "    orders = pd.read_csv(pth4)\n",
    "else:\n",
    "    print('Ошибка месторасположения csv-файла \"orders\"')    \n",
    "    \n",
    "pth5 = '/datasets/visitors.csv'\n",
    "pth6 = 'D:/ab_test_project/visitors.csv'\n",
    "\n",
    "if os.path.exists(pth5):\n",
    "    visi = pd.read_csv(pth5)\n",
    "elif os.path.exists(pth6):\n",
    "    visi = pd.read_csv(pth6)\n",
    "else:\n",
    "    print('Ошибка месторасположения csv-файла \"visitors\"')      "
   ]
  },
  {
   "cell_type": "markdown",
   "id": "554f8f2c",
   "metadata": {},
   "source": [
    "<a id='p0.1'></a>\n",
    "#### 0.1 Датасет HYPOTHESIS (HYPO)"
   ]
  },
  {
   "cell_type": "code",
   "execution_count": 3,
   "id": "a8920256",
   "metadata": {
    "scrolled": false
   },
   "outputs": [
    {
     "name": "stdout",
     "output_type": "stream",
     "text": [
      "<class 'pandas.core.frame.DataFrame'>\n",
      "RangeIndex: 9 entries, 0 to 8\n",
      "Data columns (total 5 columns):\n",
      " #   Column      Non-Null Count  Dtype \n",
      "---  ------      --------------  ----- \n",
      " 0   Hypothesis  9 non-null      object\n",
      " 1   Reach       9 non-null      int64 \n",
      " 2   Impact      9 non-null      int64 \n",
      " 3   Confidence  9 non-null      int64 \n",
      " 4   Efforts     9 non-null      int64 \n",
      "dtypes: int64(4), object(1)\n",
      "memory usage: 488.0+ bytes\n",
      "\n"
     ]
    },
    {
     "data": {
      "text/html": [
       "<div>\n",
       "<style scoped>\n",
       "    .dataframe tbody tr th:only-of-type {\n",
       "        vertical-align: middle;\n",
       "    }\n",
       "\n",
       "    .dataframe tbody tr th {\n",
       "        vertical-align: top;\n",
       "    }\n",
       "\n",
       "    .dataframe thead th {\n",
       "        text-align: right;\n",
       "    }\n",
       "</style>\n",
       "<table border=\"1\" class=\"dataframe\">\n",
       "  <thead>\n",
       "    <tr style=\"text-align: right;\">\n",
       "      <th></th>\n",
       "      <th>Hypothesis</th>\n",
       "      <th>Reach</th>\n",
       "      <th>Impact</th>\n",
       "      <th>Confidence</th>\n",
       "      <th>Efforts</th>\n",
       "    </tr>\n",
       "  </thead>\n",
       "  <tbody>\n",
       "    <tr>\n",
       "      <th>0</th>\n",
       "      <td>Добавить два новых канала привлечения трафика, что позволит привлекать на 30% больше пользователей</td>\n",
       "      <td>3</td>\n",
       "      <td>10</td>\n",
       "      <td>8</td>\n",
       "      <td>6</td>\n",
       "    </tr>\n",
       "    <tr>\n",
       "      <th>1</th>\n",
       "      <td>Запустить собственную службу доставки, что сократит срок доставки заказов</td>\n",
       "      <td>2</td>\n",
       "      <td>5</td>\n",
       "      <td>4</td>\n",
       "      <td>10</td>\n",
       "    </tr>\n",
       "    <tr>\n",
       "      <th>2</th>\n",
       "      <td>Добавить блоки рекомендаций товаров на сайт интернет магазина, чтобы повысить конверсию и средний чек заказа</td>\n",
       "      <td>8</td>\n",
       "      <td>3</td>\n",
       "      <td>7</td>\n",
       "      <td>3</td>\n",
       "    </tr>\n",
       "    <tr>\n",
       "      <th>3</th>\n",
       "      <td>Изменить структура категорий, что увеличит конверсию, т.к. пользователи быстрее найдут нужный товар</td>\n",
       "      <td>8</td>\n",
       "      <td>3</td>\n",
       "      <td>3</td>\n",
       "      <td>8</td>\n",
       "    </tr>\n",
       "    <tr>\n",
       "      <th>4</th>\n",
       "      <td>Изменить цвет фона главной страницы, чтобы увеличить вовлеченность пользователей</td>\n",
       "      <td>3</td>\n",
       "      <td>1</td>\n",
       "      <td>1</td>\n",
       "      <td>1</td>\n",
       "    </tr>\n",
       "    <tr>\n",
       "      <th>5</th>\n",
       "      <td>Добавить страницу отзывов клиентов о магазине, что позволит увеличить количество заказов</td>\n",
       "      <td>3</td>\n",
       "      <td>2</td>\n",
       "      <td>2</td>\n",
       "      <td>3</td>\n",
       "    </tr>\n",
       "    <tr>\n",
       "      <th>6</th>\n",
       "      <td>Показать на главной странице баннеры с актуальными акциями и распродажами, чтобы увеличить конверсию</td>\n",
       "      <td>5</td>\n",
       "      <td>3</td>\n",
       "      <td>8</td>\n",
       "      <td>3</td>\n",
       "    </tr>\n",
       "    <tr>\n",
       "      <th>7</th>\n",
       "      <td>Добавить форму подписки на все основные страницы, чтобы собрать базу клиентов для email-рассылок</td>\n",
       "      <td>10</td>\n",
       "      <td>7</td>\n",
       "      <td>8</td>\n",
       "      <td>5</td>\n",
       "    </tr>\n",
       "    <tr>\n",
       "      <th>8</th>\n",
       "      <td>Запустить акцию, дающую скидку на товар в день рождения</td>\n",
       "      <td>1</td>\n",
       "      <td>9</td>\n",
       "      <td>9</td>\n",
       "      <td>5</td>\n",
       "    </tr>\n",
       "  </tbody>\n",
       "</table>\n",
       "</div>"
      ],
      "text/plain": [
       "                                                                                                     Hypothesis  \\\n",
       "0            Добавить два новых канала привлечения трафика, что позволит привлекать на 30% больше пользователей   \n",
       "1                                     Запустить собственную службу доставки, что сократит срок доставки заказов   \n",
       "2  Добавить блоки рекомендаций товаров на сайт интернет магазина, чтобы повысить конверсию и средний чек заказа   \n",
       "3           Изменить структура категорий, что увеличит конверсию, т.к. пользователи быстрее найдут нужный товар   \n",
       "4                              Изменить цвет фона главной страницы, чтобы увеличить вовлеченность пользователей   \n",
       "5                      Добавить страницу отзывов клиентов о магазине, что позволит увеличить количество заказов   \n",
       "6          Показать на главной странице баннеры с актуальными акциями и распродажами, чтобы увеличить конверсию   \n",
       "7              Добавить форму подписки на все основные страницы, чтобы собрать базу клиентов для email-рассылок   \n",
       "8                                                       Запустить акцию, дающую скидку на товар в день рождения   \n",
       "\n",
       "   Reach  Impact  Confidence  Efforts  \n",
       "0      3      10           8        6  \n",
       "1      2       5           4       10  \n",
       "2      8       3           7        3  \n",
       "3      8       3           3        8  \n",
       "4      3       1           1        1  \n",
       "5      3       2           2        3  \n",
       "6      5       3           8        3  \n",
       "7     10       7           8        5  \n",
       "8      1       9           9        5  "
      ]
     },
     "execution_count": 3,
     "metadata": {},
     "output_type": "execute_result"
    }
   ],
   "source": [
    "pd.set_option('display.max_colwidth', None) # для отображения во всю длину строки\n",
    "hypo.info()\n",
    "print()\n",
    "hypo"
   ]
  },
  {
   "cell_type": "markdown",
   "id": "7ddbaf09",
   "metadata": {},
   "source": [
    "Опишем увиденный датасет"
   ]
  },
  {
   "cell_type": "markdown",
   "id": "ec1e86ca",
   "metadata": {},
   "source": [
    "`Hypothesis` — краткое описание гипотезы, **объекты**;\n",
    "\n",
    "`Reach` — охват пользователей по 10-балльной шкале, **целые числа**;\n",
    "\n",
    "`Impact` — влияние на пользователей по 10-балльной шкале, **целые числа**;\n",
    "\n",
    "`Confidence` — уверенность в гипотезе по 10-балльной шкале, **целые числа**;\n",
    "\n",
    "`Efforts` — затраты ресурсов на проверку гипотезы по 10-балльной шкале. Чем больше значение Efforts, тем дороже проверка гипотезы, **целые числа**.\n",
    "\n",
    "Пропусков нет.\n",
    "\n",
    "**Названия всех столбцов нужно привести к змеиному регистру.** Что мы и сделаем."
   ]
  },
  {
   "cell_type": "code",
   "execution_count": 4,
   "id": "d5b3444b",
   "metadata": {},
   "outputs": [],
   "source": [
    "hypo.columns=['hypothesis', 'reach', 'impact', 'confidence', 'efforts']"
   ]
  },
  {
   "cell_type": "code",
   "execution_count": 5,
   "id": "b4801058",
   "metadata": {},
   "outputs": [
    {
     "data": {
      "text/html": [
       "<div>\n",
       "<style scoped>\n",
       "    .dataframe tbody tr th:only-of-type {\n",
       "        vertical-align: middle;\n",
       "    }\n",
       "\n",
       "    .dataframe tbody tr th {\n",
       "        vertical-align: top;\n",
       "    }\n",
       "\n",
       "    .dataframe thead th {\n",
       "        text-align: right;\n",
       "    }\n",
       "</style>\n",
       "<table border=\"1\" class=\"dataframe\">\n",
       "  <thead>\n",
       "    <tr style=\"text-align: right;\">\n",
       "      <th></th>\n",
       "      <th>hypothesis</th>\n",
       "      <th>reach</th>\n",
       "      <th>impact</th>\n",
       "      <th>confidence</th>\n",
       "      <th>efforts</th>\n",
       "    </tr>\n",
       "  </thead>\n",
       "  <tbody>\n",
       "    <tr>\n",
       "      <th>0</th>\n",
       "      <td>Добавить два новых канала привлечения трафика, что позволит привлекать на 30% больше пользователей</td>\n",
       "      <td>3</td>\n",
       "      <td>10</td>\n",
       "      <td>8</td>\n",
       "      <td>6</td>\n",
       "    </tr>\n",
       "  </tbody>\n",
       "</table>\n",
       "</div>"
      ],
      "text/plain": [
       "                                                                                           hypothesis  \\\n",
       "0  Добавить два новых канала привлечения трафика, что позволит привлекать на 30% больше пользователей   \n",
       "\n",
       "   reach  impact  confidence  efforts  \n",
       "0      3      10           8        6  "
      ]
     },
     "execution_count": 5,
     "metadata": {},
     "output_type": "execute_result"
    }
   ],
   "source": [
    "hypo.head(1)"
   ]
  },
  {
   "cell_type": "markdown",
   "id": "fc1f2021",
   "metadata": {},
   "source": [
    "Пока что отвлечёмся от этого датасета."
   ]
  },
  {
   "cell_type": "markdown",
   "id": "300b3280",
   "metadata": {},
   "source": [
    "<a id='p0.2'></a>\n",
    "#### 0.2 Датасет ORDERS"
   ]
  },
  {
   "cell_type": "code",
   "execution_count": 6,
   "id": "c24edfe3",
   "metadata": {},
   "outputs": [
    {
     "name": "stdout",
     "output_type": "stream",
     "text": [
      "<class 'pandas.core.frame.DataFrame'>\n",
      "RangeIndex: 1197 entries, 0 to 1196\n",
      "Data columns (total 5 columns):\n",
      " #   Column         Non-Null Count  Dtype \n",
      "---  ------         --------------  ----- \n",
      " 0   transactionId  1197 non-null   int64 \n",
      " 1   visitorId      1197 non-null   int64 \n",
      " 2   date           1197 non-null   object\n",
      " 3   revenue        1197 non-null   int64 \n",
      " 4   group          1197 non-null   object\n",
      "dtypes: int64(3), object(2)\n",
      "memory usage: 46.9+ KB\n",
      "\n"
     ]
    },
    {
     "data": {
      "text/html": [
       "<div>\n",
       "<style scoped>\n",
       "    .dataframe tbody tr th:only-of-type {\n",
       "        vertical-align: middle;\n",
       "    }\n",
       "\n",
       "    .dataframe tbody tr th {\n",
       "        vertical-align: top;\n",
       "    }\n",
       "\n",
       "    .dataframe thead th {\n",
       "        text-align: right;\n",
       "    }\n",
       "</style>\n",
       "<table border=\"1\" class=\"dataframe\">\n",
       "  <thead>\n",
       "    <tr style=\"text-align: right;\">\n",
       "      <th></th>\n",
       "      <th>transactionId</th>\n",
       "      <th>visitorId</th>\n",
       "      <th>date</th>\n",
       "      <th>revenue</th>\n",
       "      <th>group</th>\n",
       "    </tr>\n",
       "  </thead>\n",
       "  <tbody>\n",
       "    <tr>\n",
       "      <th>0</th>\n",
       "      <td>3667963787</td>\n",
       "      <td>3312258926</td>\n",
       "      <td>2019-08-15</td>\n",
       "      <td>1650</td>\n",
       "      <td>B</td>\n",
       "    </tr>\n",
       "    <tr>\n",
       "      <th>1</th>\n",
       "      <td>2804400009</td>\n",
       "      <td>3642806036</td>\n",
       "      <td>2019-08-15</td>\n",
       "      <td>730</td>\n",
       "      <td>B</td>\n",
       "    </tr>\n",
       "    <tr>\n",
       "      <th>2</th>\n",
       "      <td>2961555356</td>\n",
       "      <td>4069496402</td>\n",
       "      <td>2019-08-15</td>\n",
       "      <td>400</td>\n",
       "      <td>A</td>\n",
       "    </tr>\n",
       "    <tr>\n",
       "      <th>3</th>\n",
       "      <td>3797467345</td>\n",
       "      <td>1196621759</td>\n",
       "      <td>2019-08-15</td>\n",
       "      <td>9759</td>\n",
       "      <td>B</td>\n",
       "    </tr>\n",
       "    <tr>\n",
       "      <th>4</th>\n",
       "      <td>2282983706</td>\n",
       "      <td>2322279887</td>\n",
       "      <td>2019-08-15</td>\n",
       "      <td>2308</td>\n",
       "      <td>B</td>\n",
       "    </tr>\n",
       "  </tbody>\n",
       "</table>\n",
       "</div>"
      ],
      "text/plain": [
       "   transactionId   visitorId        date  revenue group\n",
       "0     3667963787  3312258926  2019-08-15     1650     B\n",
       "1     2804400009  3642806036  2019-08-15      730     B\n",
       "2     2961555356  4069496402  2019-08-15      400     A\n",
       "3     3797467345  1196621759  2019-08-15     9759     B\n",
       "4     2282983706  2322279887  2019-08-15     2308     B"
      ]
     },
     "metadata": {},
     "output_type": "display_data"
    },
    {
     "name": "stdout",
     "output_type": "stream",
     "text": [
      "\n"
     ]
    },
    {
     "data": {
      "text/plain": [
       "str"
      ]
     },
     "execution_count": 6,
     "metadata": {},
     "output_type": "execute_result"
    }
   ],
   "source": [
    "orders.info()\n",
    "print()\n",
    "display(orders.head())\n",
    "print()\n",
    "type(orders.loc[0, 'date'])"
   ]
  },
  {
   "cell_type": "markdown",
   "id": "57da2c8c",
   "metadata": {},
   "source": [
    "Опишем, что мы увидели выше."
   ]
  },
  {
   "cell_type": "markdown",
   "id": "ff34e889",
   "metadata": {},
   "source": [
    "`transactionId` — идентификатор заказа, **целые числа, название столбца нужно привести к змеиному регистру**;  \n",
    "\n",
    "`visitorId` — идентификатор пользователя, совершившего заказ, **целые числа, название столбца нужно привести к змеиному регистру**;  \n",
    "\n",
    "`date` — дата, когда был совершён заказ, **объекты, нужно привести к формату date**;  \n",
    "\n",
    "`revenue` — выручка заказа, **целые числа**;  \n",
    "\n",
    "`group` — группа A/B-теста, в которую попал заказ, **объекты**.\n",
    "\n",
    "Пропусков нигде нет."
   ]
  },
  {
   "cell_type": "markdown",
   "id": "cf48bdde",
   "metadata": {},
   "source": [
    "Названия столбцов к змеиному регистру:"
   ]
  },
  {
   "cell_type": "code",
   "execution_count": 7,
   "id": "25c862dc",
   "metadata": {},
   "outputs": [
    {
     "data": {
      "text/html": [
       "<div>\n",
       "<style scoped>\n",
       "    .dataframe tbody tr th:only-of-type {\n",
       "        vertical-align: middle;\n",
       "    }\n",
       "\n",
       "    .dataframe tbody tr th {\n",
       "        vertical-align: top;\n",
       "    }\n",
       "\n",
       "    .dataframe thead th {\n",
       "        text-align: right;\n",
       "    }\n",
       "</style>\n",
       "<table border=\"1\" class=\"dataframe\">\n",
       "  <thead>\n",
       "    <tr style=\"text-align: right;\">\n",
       "      <th></th>\n",
       "      <th>transaction_id</th>\n",
       "      <th>visitor_id</th>\n",
       "      <th>date</th>\n",
       "      <th>revenue</th>\n",
       "      <th>group</th>\n",
       "    </tr>\n",
       "  </thead>\n",
       "  <tbody>\n",
       "    <tr>\n",
       "      <th>0</th>\n",
       "      <td>3667963787</td>\n",
       "      <td>3312258926</td>\n",
       "      <td>2019-08-15</td>\n",
       "      <td>1650</td>\n",
       "      <td>B</td>\n",
       "    </tr>\n",
       "  </tbody>\n",
       "</table>\n",
       "</div>"
      ],
      "text/plain": [
       "   transaction_id  visitor_id        date  revenue group\n",
       "0      3667963787  3312258926  2019-08-15     1650     B"
      ]
     },
     "execution_count": 7,
     "metadata": {},
     "output_type": "execute_result"
    }
   ],
   "source": [
    "orders = orders.rename(columns={'transactionId': 'transaction_id', 'visitorId': 'visitor_id'})\n",
    "orders.head(1)"
   ]
  },
  {
   "cell_type": "markdown",
   "id": "287129da",
   "metadata": {},
   "source": [
    "Даты к `date`:"
   ]
  },
  {
   "cell_type": "code",
   "execution_count": 8,
   "id": "1fce4a62",
   "metadata": {},
   "outputs": [
    {
     "data": {
      "text/plain": [
       "datetime.date"
      ]
     },
     "execution_count": 8,
     "metadata": {},
     "output_type": "execute_result"
    }
   ],
   "source": [
    "orders['date'] = pd.to_datetime(orders['date'], format='%Y-%m-%d').dt.date\n",
    "type(orders.loc[0, 'date'])"
   ]
  },
  {
   "cell_type": "markdown",
   "id": "ed3846ad",
   "metadata": {},
   "source": [
    "Проверим на полные дубликаты."
   ]
  },
  {
   "cell_type": "code",
   "execution_count": 9,
   "id": "c4adc49a",
   "metadata": {},
   "outputs": [
    {
     "data": {
      "text/plain": [
       "0"
      ]
     },
     "execution_count": 9,
     "metadata": {},
     "output_type": "execute_result"
    }
   ],
   "source": [
    "orders.duplicated().sum()"
   ]
  },
  {
   "cell_type": "markdown",
   "id": "460c3a04",
   "metadata": {},
   "source": [
    "Полных дубликатов нет, это хорошо."
   ]
  },
  {
   "cell_type": "markdown",
   "id": "81a735cc",
   "metadata": {},
   "source": [
    "Узнаем про датасет ещё чуть больше:"
   ]
  },
  {
   "cell_type": "code",
   "execution_count": 10,
   "id": "58cebc40",
   "metadata": {},
   "outputs": [
    {
     "name": "stdout",
     "output_type": "stream",
     "text": [
      "Самая ранняя дата заказа: 2019-08-01\n",
      "Самая поздняя дата заказа: 2019-08-31\n"
     ]
    }
   ],
   "source": [
    "print('Самая ранняя дата заказа:', min(orders['date']))\n",
    "print('Самая поздняя дата заказа:', max(orders['date']))"
   ]
  },
  {
   "cell_type": "markdown",
   "id": "97342fa2",
   "metadata": {},
   "source": [
    "То есть один 31-дневный месяц, ок."
   ]
  },
  {
   "cell_type": "code",
   "execution_count": 11,
   "id": "6128b728",
   "metadata": {},
   "outputs": [
    {
     "name": "stdout",
     "output_type": "stream",
     "text": [
      "Минимальная сумма выручка заказа: 50\n",
      "Максимальная сумма выручка заказа: 1294500\n",
      "Средняя выручка заказа: 8348.005847953216\n",
      "Медианная выручка заказа: 2978.0\n"
     ]
    }
   ],
   "source": [
    "print('Минимальная сумма выручка заказа:', min(orders['revenue']))\n",
    "print('Максимальная сумма выручка заказа:', max(orders['revenue']))\n",
    "print('Средняя выручка заказа:', orders['revenue'].mean())\n",
    "print('Медианная выручка заказа:', orders['revenue'].median())"
   ]
  },
  {
   "cell_type": "markdown",
   "id": "ce6caa6b",
   "metadata": {},
   "source": [
    "Выбросы конечно же есть."
   ]
  },
  {
   "cell_type": "markdown",
   "id": "971b1cce",
   "metadata": {},
   "source": [
    "Всё ли в порядке с группами?"
   ]
  },
  {
   "cell_type": "code",
   "execution_count": 12,
   "id": "a1ae68bb",
   "metadata": {},
   "outputs": [
    {
     "data": {
      "text/plain": [
       "B    640\n",
       "A    557\n",
       "Name: group, dtype: int64"
      ]
     },
     "execution_count": 12,
     "metadata": {},
     "output_type": "execute_result"
    }
   ],
   "source": [
    "orders['group'].value_counts()"
   ]
  },
  {
   "cell_type": "markdown",
   "id": "7a8425d8",
   "metadata": {},
   "source": [
    "Заказов, совершённых пользователями группы В, ощутимо больше, чем заказов, сделанных группой А. Однако, рано делать выводы. Мы займёмся изучением групп ниже по тексту."
   ]
  },
  {
   "cell_type": "code",
   "execution_count": 13,
   "id": "53d2f973",
   "metadata": {},
   "outputs": [
    {
     "data": {
      "text/plain": [
       "1197"
      ]
     },
     "execution_count": 13,
     "metadata": {},
     "output_type": "execute_result"
    }
   ],
   "source": [
    "orders['transaction_id'].nunique()"
   ]
  },
  {
   "cell_type": "markdown",
   "id": "788c3b9a",
   "metadata": {},
   "source": [
    "Количество уникальных идентификаторов заказа (***я иногда буду называть их транзакциями***) совпадает с количеством строк в датасете. Так и должно быть."
   ]
  },
  {
   "cell_type": "code",
   "execution_count": 14,
   "id": "79fa7975",
   "metadata": {},
   "outputs": [
    {
     "data": {
      "text/plain": [
       "1031"
      ]
     },
     "execution_count": 14,
     "metadata": {},
     "output_type": "execute_result"
    }
   ],
   "source": [
    "orders['visitor_id'].nunique()"
   ]
  },
  {
   "cell_type": "markdown",
   "id": "4f2d9d6c",
   "metadata": {},
   "source": [
    "Некоторые пользователи совершили больше одной покупки, это ок."
   ]
  },
  {
   "cell_type": "code",
   "execution_count": 15,
   "id": "e6a95785",
   "metadata": {
    "scrolled": false
   },
   "outputs": [
    {
     "data": {
      "text/plain": [
       "4256040402    11\n",
       "2458001652    11\n",
       "2378935119     9\n",
       "2038680547     8\n",
       "199603092      5\n",
       "              ..\n",
       "2406916810     1\n",
       "1255412427     1\n",
       "3866069709     1\n",
       "54447517       1\n",
       "3013339133     1\n",
       "Name: visitor_id, Length: 1031, dtype: int64"
      ]
     },
     "execution_count": 15,
     "metadata": {},
     "output_type": "execute_result"
    }
   ],
   "source": [
    "orders['visitor_id'].value_counts()"
   ]
  },
  {
   "cell_type": "markdown",
   "id": "ed399013",
   "metadata": {},
   "source": [
    "Есть любители покупок, но в общем и целом обошлось без фанатизма."
   ]
  },
  {
   "cell_type": "markdown",
   "id": "62cec274",
   "metadata": {},
   "source": [
    "Убедимся, что нет пользователей, которые попали в обе группы."
   ]
  },
  {
   "cell_type": "code",
   "execution_count": 16,
   "id": "26e5cc87",
   "metadata": {},
   "outputs": [
    {
     "data": {
      "text/plain": [
       "True"
      ]
     },
     "execution_count": 16,
     "metadata": {},
     "output_type": "execute_result"
    }
   ],
   "source": [
    "visitors_a_list = list(orders.loc[orders['group'] == 'A', 'visitor_id'])\n",
    "visitors_b_list = list(orders.loc[orders['group'] == 'B', 'visitor_id'])\n",
    "out = any(check in visitors_a_list for check in visitors_b_list)\n",
    "out"
   ]
  },
  {
   "cell_type": "markdown",
   "id": "80e104df",
   "metadata": {},
   "source": [
    "Такие пользователи есть."
   ]
  },
  {
   "cell_type": "code",
   "execution_count": 17,
   "id": "00ca9a6c",
   "metadata": {},
   "outputs": [
    {
     "data": {
      "text/plain": [
       "58"
      ]
     },
     "execution_count": 17,
     "metadata": {},
     "output_type": "execute_result"
    }
   ],
   "source": [
    "both_groups = Counter(visitors_a_list) & Counter(visitors_b_list)\n",
    "both_groups_list = list(both_groups.elements())\n",
    "len(set(list(both_groups.elements())))\n"
   ]
  },
  {
   "cell_type": "markdown",
   "id": "0d6ccecd",
   "metadata": {},
   "source": [
    "Их 58. Удалим их из датасета."
   ]
  },
  {
   "cell_type": "code",
   "execution_count": 18,
   "id": "37b4c9ad",
   "metadata": {},
   "outputs": [
    {
     "data": {
      "text/html": [
       "<div>\n",
       "<style scoped>\n",
       "    .dataframe tbody tr th:only-of-type {\n",
       "        vertical-align: middle;\n",
       "    }\n",
       "\n",
       "    .dataframe tbody tr th {\n",
       "        vertical-align: top;\n",
       "    }\n",
       "\n",
       "    .dataframe thead th {\n",
       "        text-align: right;\n",
       "    }\n",
       "</style>\n",
       "<table border=\"1\" class=\"dataframe\">\n",
       "  <thead>\n",
       "    <tr style=\"text-align: right;\">\n",
       "      <th></th>\n",
       "      <th>transaction_id</th>\n",
       "      <th>visitor_id</th>\n",
       "      <th>date</th>\n",
       "      <th>revenue</th>\n",
       "      <th>group</th>\n",
       "    </tr>\n",
       "  </thead>\n",
       "  <tbody>\n",
       "    <tr>\n",
       "      <th>0</th>\n",
       "      <td>3667963787</td>\n",
       "      <td>3312258926</td>\n",
       "      <td>2019-08-15</td>\n",
       "      <td>1650</td>\n",
       "      <td>B</td>\n",
       "    </tr>\n",
       "    <tr>\n",
       "      <th>1</th>\n",
       "      <td>2804400009</td>\n",
       "      <td>3642806036</td>\n",
       "      <td>2019-08-15</td>\n",
       "      <td>730</td>\n",
       "      <td>B</td>\n",
       "    </tr>\n",
       "    <tr>\n",
       "      <th>3</th>\n",
       "      <td>3797467345</td>\n",
       "      <td>1196621759</td>\n",
       "      <td>2019-08-15</td>\n",
       "      <td>9759</td>\n",
       "      <td>B</td>\n",
       "    </tr>\n",
       "    <tr>\n",
       "      <th>4</th>\n",
       "      <td>2282983706</td>\n",
       "      <td>2322279887</td>\n",
       "      <td>2019-08-15</td>\n",
       "      <td>2308</td>\n",
       "      <td>B</td>\n",
       "    </tr>\n",
       "    <tr>\n",
       "      <th>5</th>\n",
       "      <td>182168103</td>\n",
       "      <td>935554773</td>\n",
       "      <td>2019-08-15</td>\n",
       "      <td>2210</td>\n",
       "      <td>B</td>\n",
       "    </tr>\n",
       "    <tr>\n",
       "      <th>...</th>\n",
       "      <td>...</td>\n",
       "      <td>...</td>\n",
       "      <td>...</td>\n",
       "      <td>...</td>\n",
       "      <td>...</td>\n",
       "    </tr>\n",
       "    <tr>\n",
       "      <th>1191</th>\n",
       "      <td>3592955527</td>\n",
       "      <td>608641596</td>\n",
       "      <td>2019-08-14</td>\n",
       "      <td>16490</td>\n",
       "      <td>B</td>\n",
       "    </tr>\n",
       "    <tr>\n",
       "      <th>1192</th>\n",
       "      <td>2662137336</td>\n",
       "      <td>3733762160</td>\n",
       "      <td>2019-08-14</td>\n",
       "      <td>6490</td>\n",
       "      <td>B</td>\n",
       "    </tr>\n",
       "    <tr>\n",
       "      <th>1193</th>\n",
       "      <td>2203539145</td>\n",
       "      <td>370388673</td>\n",
       "      <td>2019-08-14</td>\n",
       "      <td>3190</td>\n",
       "      <td>A</td>\n",
       "    </tr>\n",
       "    <tr>\n",
       "      <th>1194</th>\n",
       "      <td>1807773912</td>\n",
       "      <td>573423106</td>\n",
       "      <td>2019-08-14</td>\n",
       "      <td>10550</td>\n",
       "      <td>A</td>\n",
       "    </tr>\n",
       "    <tr>\n",
       "      <th>1196</th>\n",
       "      <td>3936777065</td>\n",
       "      <td>2108080724</td>\n",
       "      <td>2019-08-15</td>\n",
       "      <td>202740</td>\n",
       "      <td>B</td>\n",
       "    </tr>\n",
       "  </tbody>\n",
       "</table>\n",
       "<p>1016 rows × 5 columns</p>\n",
       "</div>"
      ],
      "text/plain": [
       "      transaction_id  visitor_id        date  revenue group\n",
       "0         3667963787  3312258926  2019-08-15     1650     B\n",
       "1         2804400009  3642806036  2019-08-15      730     B\n",
       "3         3797467345  1196621759  2019-08-15     9759     B\n",
       "4         2282983706  2322279887  2019-08-15     2308     B\n",
       "5          182168103   935554773  2019-08-15     2210     B\n",
       "...              ...         ...         ...      ...   ...\n",
       "1191      3592955527   608641596  2019-08-14    16490     B\n",
       "1192      2662137336  3733762160  2019-08-14     6490     B\n",
       "1193      2203539145   370388673  2019-08-14     3190     A\n",
       "1194      1807773912   573423106  2019-08-14    10550     A\n",
       "1196      3936777065  2108080724  2019-08-15   202740     B\n",
       "\n",
       "[1016 rows x 5 columns]"
      ]
     },
     "execution_count": 18,
     "metadata": {},
     "output_type": "execute_result"
    }
   ],
   "source": [
    "orders = orders.query('visitor_id not in @both_groups_list')\n",
    "orders"
   ]
  },
  {
   "cell_type": "markdown",
   "id": "6928a418",
   "metadata": {},
   "source": [
    "Проверим ещё раз."
   ]
  },
  {
   "cell_type": "code",
   "execution_count": 19,
   "id": "acc9e3ec",
   "metadata": {},
   "outputs": [
    {
     "data": {
      "text/plain": [
       "False"
      ]
     },
     "execution_count": 19,
     "metadata": {},
     "output_type": "execute_result"
    }
   ],
   "source": [
    "visitors_a_list = list(orders.loc[orders['group'] == 'A', 'visitor_id'])\n",
    "visitors_b_list = list(orders.loc[orders['group'] == 'B', 'visitor_id'])\n",
    "out = any(check in visitors_a_list for check in visitors_b_list)\n",
    "out"
   ]
  },
  {
   "cell_type": "markdown",
   "id": "09367216",
   "metadata": {},
   "source": [
    "Сработало."
   ]
  },
  {
   "cell_type": "markdown",
   "id": "e2f89e9d",
   "metadata": {},
   "source": [
    "В этом датасете кончились столбцы. Двигаемся дальше."
   ]
  },
  {
   "cell_type": "markdown",
   "id": "08813cfc",
   "metadata": {},
   "source": [
    "<a id='p0.3'></a>\n",
    "#### 0.3 Датасет VISITORS (VISI)"
   ]
  },
  {
   "cell_type": "code",
   "execution_count": 20,
   "id": "c46197f7",
   "metadata": {},
   "outputs": [
    {
     "name": "stdout",
     "output_type": "stream",
     "text": [
      "<class 'pandas.core.frame.DataFrame'>\n",
      "RangeIndex: 62 entries, 0 to 61\n",
      "Data columns (total 3 columns):\n",
      " #   Column    Non-Null Count  Dtype \n",
      "---  ------    --------------  ----- \n",
      " 0   date      62 non-null     object\n",
      " 1   group     62 non-null     object\n",
      " 2   visitors  62 non-null     int64 \n",
      "dtypes: int64(1), object(2)\n",
      "memory usage: 1.6+ KB\n",
      "\n"
     ]
    },
    {
     "data": {
      "text/html": [
       "<div>\n",
       "<style scoped>\n",
       "    .dataframe tbody tr th:only-of-type {\n",
       "        vertical-align: middle;\n",
       "    }\n",
       "\n",
       "    .dataframe tbody tr th {\n",
       "        vertical-align: top;\n",
       "    }\n",
       "\n",
       "    .dataframe thead th {\n",
       "        text-align: right;\n",
       "    }\n",
       "</style>\n",
       "<table border=\"1\" class=\"dataframe\">\n",
       "  <thead>\n",
       "    <tr style=\"text-align: right;\">\n",
       "      <th></th>\n",
       "      <th>date</th>\n",
       "      <th>group</th>\n",
       "      <th>visitors</th>\n",
       "    </tr>\n",
       "  </thead>\n",
       "  <tbody>\n",
       "    <tr>\n",
       "      <th>0</th>\n",
       "      <td>2019-08-01</td>\n",
       "      <td>A</td>\n",
       "      <td>719</td>\n",
       "    </tr>\n",
       "    <tr>\n",
       "      <th>1</th>\n",
       "      <td>2019-08-02</td>\n",
       "      <td>A</td>\n",
       "      <td>619</td>\n",
       "    </tr>\n",
       "    <tr>\n",
       "      <th>2</th>\n",
       "      <td>2019-08-03</td>\n",
       "      <td>A</td>\n",
       "      <td>507</td>\n",
       "    </tr>\n",
       "    <tr>\n",
       "      <th>3</th>\n",
       "      <td>2019-08-04</td>\n",
       "      <td>A</td>\n",
       "      <td>717</td>\n",
       "    </tr>\n",
       "    <tr>\n",
       "      <th>4</th>\n",
       "      <td>2019-08-05</td>\n",
       "      <td>A</td>\n",
       "      <td>756</td>\n",
       "    </tr>\n",
       "  </tbody>\n",
       "</table>\n",
       "</div>"
      ],
      "text/plain": [
       "         date group  visitors\n",
       "0  2019-08-01     A       719\n",
       "1  2019-08-02     A       619\n",
       "2  2019-08-03     A       507\n",
       "3  2019-08-04     A       717\n",
       "4  2019-08-05     A       756"
      ]
     },
     "metadata": {},
     "output_type": "display_data"
    },
    {
     "name": "stdout",
     "output_type": "stream",
     "text": [
      "\n"
     ]
    },
    {
     "data": {
      "text/plain": [
       "str"
      ]
     },
     "execution_count": 20,
     "metadata": {},
     "output_type": "execute_result"
    }
   ],
   "source": [
    "visi.info()\n",
    "print()\n",
    "display(visi.head())\n",
    "print()\n",
    "type(visi.loc[0, 'date'])"
   ]
  },
  {
   "cell_type": "markdown",
   "id": "73984695",
   "metadata": {},
   "source": [
    "Выше мы увидели:"
   ]
  },
  {
   "cell_type": "markdown",
   "id": "d9ce95f8",
   "metadata": {},
   "source": [
    "``date`` — дата, **объекты, нужно привести к формату date**;\n",
    "\n",
    "``group`` — группа A/B-теста, **объекты**;\n",
    "\n",
    "``visitors`` — количество пользователей в указанную дату в указанной группе A/B-теста, **целые числа**.\n",
    "\n",
    "Пропусков нет."
   ]
  },
  {
   "cell_type": "markdown",
   "id": "b65d5b34",
   "metadata": {},
   "source": [
    "Приведём даты к формату `date`."
   ]
  },
  {
   "cell_type": "code",
   "execution_count": 21,
   "id": "6635d36f",
   "metadata": {},
   "outputs": [
    {
     "data": {
      "text/plain": [
       "datetime.date"
      ]
     },
     "execution_count": 21,
     "metadata": {},
     "output_type": "execute_result"
    }
   ],
   "source": [
    "visi['date'] = pd.to_datetime(visi['date'], format='%Y-%m-%d').dt.date\n",
    "type(visi.loc[0, 'date'])"
   ]
  },
  {
   "cell_type": "markdown",
   "id": "9070612f",
   "metadata": {},
   "source": [
    "Проверим на полные дубликаты."
   ]
  },
  {
   "cell_type": "code",
   "execution_count": 22,
   "id": "d592cb8e",
   "metadata": {},
   "outputs": [
    {
     "data": {
      "text/plain": [
       "0"
      ]
     },
     "execution_count": 22,
     "metadata": {},
     "output_type": "execute_result"
    }
   ],
   "source": [
    "visi.duplicated().sum()"
   ]
  },
  {
   "cell_type": "markdown",
   "id": "4a441cf7",
   "metadata": {},
   "source": [
    "Полных дубликатов нет, опять повезло."
   ]
  },
  {
   "cell_type": "markdown",
   "id": "f753957a",
   "metadata": {},
   "source": [
    "Немного поанализируем:"
   ]
  },
  {
   "cell_type": "code",
   "execution_count": 23,
   "id": "6bc677fc",
   "metadata": {},
   "outputs": [
    {
     "name": "stdout",
     "output_type": "stream",
     "text": [
      "Самая ранняя дата заказа: 2019-08-01\n",
      "Самая поздняя дата заказа: 2019-08-31\n"
     ]
    }
   ],
   "source": [
    "print('Самая ранняя дата заказа:', min(visi['date']))\n",
    "print('Самая поздняя дата заказа:', max(visi['date']))"
   ]
  },
  {
   "cell_type": "markdown",
   "id": "e944e9b2",
   "metadata": {},
   "source": [
    "Даты совпадают с аналогичными датами датасета `orders`."
   ]
  },
  {
   "cell_type": "markdown",
   "id": "c66ded32",
   "metadata": {},
   "source": [
    "А всё ли ок с группами?"
   ]
  },
  {
   "cell_type": "code",
   "execution_count": 24,
   "id": "f7df28d9",
   "metadata": {},
   "outputs": [
    {
     "data": {
      "text/plain": [
       "B    31\n",
       "A    31\n",
       "Name: group, dtype: int64"
      ]
     },
     "execution_count": 24,
     "metadata": {},
     "output_type": "execute_result"
    }
   ],
   "source": [
    "visi['group'].value_counts()"
   ]
  },
  {
   "cell_type": "markdown",
   "id": "2900a343",
   "metadata": {},
   "source": [
    "Поровну. Более того, количество строк для каждой из групп совпадает с количеством дней в августе. Действительно ли каждому августовскому дню соответствует по одной строке с группами А и В?"
   ]
  },
  {
   "cell_type": "code",
   "execution_count": 25,
   "id": "4df48c8c",
   "metadata": {},
   "outputs": [
    {
     "data": {
      "image/png": "[encoded data removed]",
      "text/plain": [
       "<Figure size 720x144 with 1 Axes>"
      ]
     },
     "metadata": {
      "needs_background": "light"
     },
     "output_type": "display_data"
    }
   ],
   "source": [
    "plt.figure(figsize=(10, 2))\n",
    "sns.scatterplot(x=visi['date'], y=visi['group'], alpha=0.5) # задаём alpha=0.5, чтобы разглядеть наложение, если оно есть\n",
    "plt.xlabel('days', fontsize=16)\n",
    "plt.ylabel('groups', fontsize=16)\n",
    "plt.xticks(rotation=90)\n",
    "plt.title('check of days and groups', fontsize=18)\n",
    "plt.show()"
   ]
  },
  {
   "cell_type": "markdown",
   "id": "d65d1791",
   "metadata": {},
   "source": [
    "Все точки групп А и В появились парами, нет пропусков и наложений. Значит, считаем, что на каждый день действительно приходится одна группа А и одна В."
   ]
  },
  {
   "cell_type": "markdown",
   "id": "da97bf9a",
   "metadata": {},
   "source": [
    "Посмотрим повнимательнее на столбец `visitors`."
   ]
  },
  {
   "cell_type": "code",
   "execution_count": 26,
   "id": "04813fe7",
   "metadata": {},
   "outputs": [
    {
     "name": "stdout",
     "output_type": "stream",
     "text": [
      "Минимальное количество посетителей: 361\n",
      "Максимальное количество посетителей: 770\n",
      "Среднее количество посетителей: 607.2903225806451\n",
      "Медианное количество посетителей: 624.5\n"
     ]
    }
   ],
   "source": [
    "print('Минимальное количество посетителей:', min(visi['visitors']))\n",
    "print('Максимальное количество посетителей:', max(visi['visitors']))\n",
    "print('Среднее количество посетителей:', visi['visitors'].mean())\n",
    "print('Медианное количество посетителей:', visi['visitors'].median())"
   ]
  },
  {
   "cell_type": "markdown",
   "id": "27e9642c",
   "metadata": {},
   "source": [
    "Никаких нулей или миллионов, это хорошо."
   ]
  },
  {
   "cell_type": "code",
   "execution_count": 27,
   "id": "c088c46c",
   "metadata": {},
   "outputs": [
    {
     "name": "stdout",
     "output_type": "stream",
     "text": [
      "Суммарное количество посетителей группы А: 18736\n",
      "Суммарное количество посетителей группы B: 18916\n",
      "Среднее количество посетителей группы А: 604.3870967741935\n",
      "Среднее количество посетителей группы B: 610.1935483870968\n",
      "Медианное количество посетителей группы А: 619.0\n",
      "Медианное количество посетителей группы B: 654.0\n"
     ]
    }
   ],
   "source": [
    "print('Суммарное количество посетителей группы А:', visi.loc[visi['group'] == 'A', 'visitors'].sum())\n",
    "print('Суммарное количество посетителей группы B:', visi.loc[visi['group'] == 'B', 'visitors'].sum())\n",
    "print('Среднее количество посетителей группы А:', visi.loc[visi['group'] == 'A', 'visitors'].mean())\n",
    "print('Среднее количество посетителей группы B:', visi.loc[visi['group'] == 'B', 'visitors'].mean())\n",
    "print('Медианное количество посетителей группы А:', visi.loc[visi['group'] == 'A', 'visitors'].median())\n",
    "print('Медианное количество посетителей группы B:', visi.loc[visi['group'] == 'B', 'visitors'].median())"
   ]
  },
  {
   "cell_type": "markdown",
   "id": "83c1aea5",
   "metadata": {},
   "source": [
    "Есть различия в количестве посетителей в зависимости от группы. Но насколько велико влияние этих различий? Позже мы это выясним."
   ]
  },
  {
   "cell_type": "markdown",
   "id": "1a5b0f1c",
   "metadata": {},
   "source": [
    "<a id='p1'></a>\n",
    "## Часть 1. Приоритизация гипотез"
   ]
  },
  {
   "cell_type": "markdown",
   "id": "c07a4902",
   "metadata": {},
   "source": [
    "Вычислим ICE и отсортируем гипотезы по убыванию приоритетности."
   ]
  },
  {
   "cell_type": "code",
   "execution_count": 28,
   "id": "ecec6976",
   "metadata": {},
   "outputs": [
    {
     "data": {
      "text/html": [
       "<div>\n",
       "<style scoped>\n",
       "    .dataframe tbody tr th:only-of-type {\n",
       "        vertical-align: middle;\n",
       "    }\n",
       "\n",
       "    .dataframe tbody tr th {\n",
       "        vertical-align: top;\n",
       "    }\n",
       "\n",
       "    .dataframe thead th {\n",
       "        text-align: right;\n",
       "    }\n",
       "</style>\n",
       "<table border=\"1\" class=\"dataframe\">\n",
       "  <thead>\n",
       "    <tr style=\"text-align: right;\">\n",
       "      <th></th>\n",
       "      <th>hypothesis</th>\n",
       "      <th>reach</th>\n",
       "      <th>impact</th>\n",
       "      <th>confidence</th>\n",
       "      <th>efforts</th>\n",
       "      <th>ICE</th>\n",
       "    </tr>\n",
       "  </thead>\n",
       "  <tbody>\n",
       "    <tr>\n",
       "      <th>8</th>\n",
       "      <td>Запустить акцию, дающую скидку на товар в день рождения</td>\n",
       "      <td>1</td>\n",
       "      <td>9</td>\n",
       "      <td>9</td>\n",
       "      <td>5</td>\n",
       "      <td>16.2</td>\n",
       "    </tr>\n",
       "    <tr>\n",
       "      <th>0</th>\n",
       "      <td>Добавить два новых канала привлечения трафика, что позволит привлекать на 30% больше пользователей</td>\n",
       "      <td>3</td>\n",
       "      <td>10</td>\n",
       "      <td>8</td>\n",
       "      <td>6</td>\n",
       "      <td>13.3</td>\n",
       "    </tr>\n",
       "    <tr>\n",
       "      <th>7</th>\n",
       "      <td>Добавить форму подписки на все основные страницы, чтобы собрать базу клиентов для email-рассылок</td>\n",
       "      <td>10</td>\n",
       "      <td>7</td>\n",
       "      <td>8</td>\n",
       "      <td>5</td>\n",
       "      <td>11.2</td>\n",
       "    </tr>\n",
       "    <tr>\n",
       "      <th>6</th>\n",
       "      <td>Показать на главной странице баннеры с актуальными акциями и распродажами, чтобы увеличить конверсию</td>\n",
       "      <td>5</td>\n",
       "      <td>3</td>\n",
       "      <td>8</td>\n",
       "      <td>3</td>\n",
       "      <td>8.0</td>\n",
       "    </tr>\n",
       "    <tr>\n",
       "      <th>2</th>\n",
       "      <td>Добавить блоки рекомендаций товаров на сайт интернет магазина, чтобы повысить конверсию и средний чек заказа</td>\n",
       "      <td>8</td>\n",
       "      <td>3</td>\n",
       "      <td>7</td>\n",
       "      <td>3</td>\n",
       "      <td>7.0</td>\n",
       "    </tr>\n",
       "    <tr>\n",
       "      <th>1</th>\n",
       "      <td>Запустить собственную службу доставки, что сократит срок доставки заказов</td>\n",
       "      <td>2</td>\n",
       "      <td>5</td>\n",
       "      <td>4</td>\n",
       "      <td>10</td>\n",
       "      <td>2.0</td>\n",
       "    </tr>\n",
       "    <tr>\n",
       "      <th>5</th>\n",
       "      <td>Добавить страницу отзывов клиентов о магазине, что позволит увеличить количество заказов</td>\n",
       "      <td>3</td>\n",
       "      <td>2</td>\n",
       "      <td>2</td>\n",
       "      <td>3</td>\n",
       "      <td>1.3</td>\n",
       "    </tr>\n",
       "    <tr>\n",
       "      <th>3</th>\n",
       "      <td>Изменить структура категорий, что увеличит конверсию, т.к. пользователи быстрее найдут нужный товар</td>\n",
       "      <td>8</td>\n",
       "      <td>3</td>\n",
       "      <td>3</td>\n",
       "      <td>8</td>\n",
       "      <td>1.1</td>\n",
       "    </tr>\n",
       "    <tr>\n",
       "      <th>4</th>\n",
       "      <td>Изменить цвет фона главной страницы, чтобы увеличить вовлеченность пользователей</td>\n",
       "      <td>3</td>\n",
       "      <td>1</td>\n",
       "      <td>1</td>\n",
       "      <td>1</td>\n",
       "      <td>1.0</td>\n",
       "    </tr>\n",
       "  </tbody>\n",
       "</table>\n",
       "</div>"
      ],
      "text/plain": [
       "                                                                                                     hypothesis  \\\n",
       "8                                                       Запустить акцию, дающую скидку на товар в день рождения   \n",
       "0            Добавить два новых канала привлечения трафика, что позволит привлекать на 30% больше пользователей   \n",
       "7              Добавить форму подписки на все основные страницы, чтобы собрать базу клиентов для email-рассылок   \n",
       "6          Показать на главной странице баннеры с актуальными акциями и распродажами, чтобы увеличить конверсию   \n",
       "2  Добавить блоки рекомендаций товаров на сайт интернет магазина, чтобы повысить конверсию и средний чек заказа   \n",
       "1                                     Запустить собственную службу доставки, что сократит срок доставки заказов   \n",
       "5                      Добавить страницу отзывов клиентов о магазине, что позволит увеличить количество заказов   \n",
       "3           Изменить структура категорий, что увеличит конверсию, т.к. пользователи быстрее найдут нужный товар   \n",
       "4                              Изменить цвет фона главной страницы, чтобы увеличить вовлеченность пользователей   \n",
       "\n",
       "   reach  impact  confidence  efforts   ICE  \n",
       "8      1       9           9        5  16.2  \n",
       "0      3      10           8        6  13.3  \n",
       "7     10       7           8        5  11.2  \n",
       "6      5       3           8        3   8.0  \n",
       "2      8       3           7        3   7.0  \n",
       "1      2       5           4       10   2.0  \n",
       "5      3       2           2        3   1.3  \n",
       "3      8       3           3        8   1.1  \n",
       "4      3       1           1        1   1.0  "
      ]
     },
     "execution_count": 28,
     "metadata": {},
     "output_type": "execute_result"
    }
   ],
   "source": [
    "hypo['ICE'] = (hypo['impact'] * hypo['confidence'] / hypo['efforts']).round(1)\n",
    "hypo.sort_values(by='ICE', ascending=False)"
   ]
  },
  {
   "cell_type": "markdown",
   "id": "d7e5d9b2",
   "metadata": {},
   "source": [
    "Теперь вычислим RICE и отсортируем гипотезы по убыванию приоритетности."
   ]
  },
  {
   "cell_type": "code",
   "execution_count": 29,
   "id": "7bb093c3",
   "metadata": {},
   "outputs": [
    {
     "data": {
      "text/html": [
       "<div>\n",
       "<style scoped>\n",
       "    .dataframe tbody tr th:only-of-type {\n",
       "        vertical-align: middle;\n",
       "    }\n",
       "\n",
       "    .dataframe tbody tr th {\n",
       "        vertical-align: top;\n",
       "    }\n",
       "\n",
       "    .dataframe thead th {\n",
       "        text-align: right;\n",
       "    }\n",
       "</style>\n",
       "<table border=\"1\" class=\"dataframe\">\n",
       "  <thead>\n",
       "    <tr style=\"text-align: right;\">\n",
       "      <th></th>\n",
       "      <th>hypothesis</th>\n",
       "      <th>reach</th>\n",
       "      <th>impact</th>\n",
       "      <th>confidence</th>\n",
       "      <th>efforts</th>\n",
       "      <th>ICE</th>\n",
       "      <th>RICE</th>\n",
       "    </tr>\n",
       "  </thead>\n",
       "  <tbody>\n",
       "    <tr>\n",
       "      <th>7</th>\n",
       "      <td>Добавить форму подписки на все основные страницы, чтобы собрать базу клиентов для email-рассылок</td>\n",
       "      <td>10</td>\n",
       "      <td>7</td>\n",
       "      <td>8</td>\n",
       "      <td>5</td>\n",
       "      <td>11.2</td>\n",
       "      <td>112.0</td>\n",
       "    </tr>\n",
       "    <tr>\n",
       "      <th>2</th>\n",
       "      <td>Добавить блоки рекомендаций товаров на сайт интернет магазина, чтобы повысить конверсию и средний чек заказа</td>\n",
       "      <td>8</td>\n",
       "      <td>3</td>\n",
       "      <td>7</td>\n",
       "      <td>3</td>\n",
       "      <td>7.0</td>\n",
       "      <td>56.0</td>\n",
       "    </tr>\n",
       "    <tr>\n",
       "      <th>6</th>\n",
       "      <td>Показать на главной странице баннеры с актуальными акциями и распродажами, чтобы увеличить конверсию</td>\n",
       "      <td>5</td>\n",
       "      <td>3</td>\n",
       "      <td>8</td>\n",
       "      <td>3</td>\n",
       "      <td>8.0</td>\n",
       "      <td>40.0</td>\n",
       "    </tr>\n",
       "    <tr>\n",
       "      <th>0</th>\n",
       "      <td>Добавить два новых канала привлечения трафика, что позволит привлекать на 30% больше пользователей</td>\n",
       "      <td>3</td>\n",
       "      <td>10</td>\n",
       "      <td>8</td>\n",
       "      <td>6</td>\n",
       "      <td>13.3</td>\n",
       "      <td>39.9</td>\n",
       "    </tr>\n",
       "    <tr>\n",
       "      <th>8</th>\n",
       "      <td>Запустить акцию, дающую скидку на товар в день рождения</td>\n",
       "      <td>1</td>\n",
       "      <td>9</td>\n",
       "      <td>9</td>\n",
       "      <td>5</td>\n",
       "      <td>16.2</td>\n",
       "      <td>16.2</td>\n",
       "    </tr>\n",
       "    <tr>\n",
       "      <th>3</th>\n",
       "      <td>Изменить структура категорий, что увеличит конверсию, т.к. пользователи быстрее найдут нужный товар</td>\n",
       "      <td>8</td>\n",
       "      <td>3</td>\n",
       "      <td>3</td>\n",
       "      <td>8</td>\n",
       "      <td>1.1</td>\n",
       "      <td>8.8</td>\n",
       "    </tr>\n",
       "    <tr>\n",
       "      <th>1</th>\n",
       "      <td>Запустить собственную службу доставки, что сократит срок доставки заказов</td>\n",
       "      <td>2</td>\n",
       "      <td>5</td>\n",
       "      <td>4</td>\n",
       "      <td>10</td>\n",
       "      <td>2.0</td>\n",
       "      <td>4.0</td>\n",
       "    </tr>\n",
       "    <tr>\n",
       "      <th>5</th>\n",
       "      <td>Добавить страницу отзывов клиентов о магазине, что позволит увеличить количество заказов</td>\n",
       "      <td>3</td>\n",
       "      <td>2</td>\n",
       "      <td>2</td>\n",
       "      <td>3</td>\n",
       "      <td>1.3</td>\n",
       "      <td>3.9</td>\n",
       "    </tr>\n",
       "    <tr>\n",
       "      <th>4</th>\n",
       "      <td>Изменить цвет фона главной страницы, чтобы увеличить вовлеченность пользователей</td>\n",
       "      <td>3</td>\n",
       "      <td>1</td>\n",
       "      <td>1</td>\n",
       "      <td>1</td>\n",
       "      <td>1.0</td>\n",
       "      <td>3.0</td>\n",
       "    </tr>\n",
       "  </tbody>\n",
       "</table>\n",
       "</div>"
      ],
      "text/plain": [
       "                                                                                                     hypothesis  \\\n",
       "7              Добавить форму подписки на все основные страницы, чтобы собрать базу клиентов для email-рассылок   \n",
       "2  Добавить блоки рекомендаций товаров на сайт интернет магазина, чтобы повысить конверсию и средний чек заказа   \n",
       "6          Показать на главной странице баннеры с актуальными акциями и распродажами, чтобы увеличить конверсию   \n",
       "0            Добавить два новых канала привлечения трафика, что позволит привлекать на 30% больше пользователей   \n",
       "8                                                       Запустить акцию, дающую скидку на товар в день рождения   \n",
       "3           Изменить структура категорий, что увеличит конверсию, т.к. пользователи быстрее найдут нужный товар   \n",
       "1                                     Запустить собственную службу доставки, что сократит срок доставки заказов   \n",
       "5                      Добавить страницу отзывов клиентов о магазине, что позволит увеличить количество заказов   \n",
       "4                              Изменить цвет фона главной страницы, чтобы увеличить вовлеченность пользователей   \n",
       "\n",
       "   reach  impact  confidence  efforts   ICE   RICE  \n",
       "7     10       7           8        5  11.2  112.0  \n",
       "2      8       3           7        3   7.0   56.0  \n",
       "6      5       3           8        3   8.0   40.0  \n",
       "0      3      10           8        6  13.3   39.9  \n",
       "8      1       9           9        5  16.2   16.2  \n",
       "3      8       3           3        8   1.1    8.8  \n",
       "1      2       5           4       10   2.0    4.0  \n",
       "5      3       2           2        3   1.3    3.9  \n",
       "4      3       1           1        1   1.0    3.0  "
      ]
     },
     "execution_count": 29,
     "metadata": {},
     "output_type": "execute_result"
    }
   ],
   "source": [
    "hypo['RICE'] = (hypo['reach'] * hypo['ICE']).round(1)\n",
    "hypo.sort_values(by='RICE', ascending=False)"
   ]
  },
  {
   "cell_type": "markdown",
   "id": "97923a4d",
   "metadata": {},
   "source": [
    "В оба топ-3 (для ICE и для RICE) попали гипотезы `0` и `7`, что должно обнадёживать. Четвёртное место дважды заняла гипотеза `6`. В антирейтинг-4 оба раза попали одни и те же гипотезы: `3`, `1`, `5` и `4`. Гипотеза `8` опустилась с первого на пятое место. Гипотеза `2` поднялась с пятого на второе.\n",
    "\n",
    "Удивляться тут нечему, все гипотезы подверглись влиянию параметра `reach`, который и внёс свой ощутимый вклад."
   ]
  },
  {
   "cell_type": "markdown",
   "id": "90c48be6",
   "metadata": {},
   "source": [
    "<a id='p2'></a>\n",
    "## Часть 2. Анализ А/В теста"
   ]
  },
  {
   "cell_type": "markdown",
   "id": "14080da6",
   "metadata": {},
   "source": [
    "Создадим массив уникальных пар значений дат и групп теста."
   ]
  },
  {
   "cell_type": "code",
   "execution_count": 30,
   "id": "553ad104",
   "metadata": {},
   "outputs": [
    {
     "data": {
      "text/html": [
       "<div>\n",
       "<style scoped>\n",
       "    .dataframe tbody tr th:only-of-type {\n",
       "        vertical-align: middle;\n",
       "    }\n",
       "\n",
       "    .dataframe tbody tr th {\n",
       "        vertical-align: top;\n",
       "    }\n",
       "\n",
       "    .dataframe thead th {\n",
       "        text-align: right;\n",
       "    }\n",
       "</style>\n",
       "<table border=\"1\" class=\"dataframe\">\n",
       "  <thead>\n",
       "    <tr style=\"text-align: right;\">\n",
       "      <th></th>\n",
       "      <th>date</th>\n",
       "      <th>group</th>\n",
       "    </tr>\n",
       "  </thead>\n",
       "  <tbody>\n",
       "    <tr>\n",
       "      <th>0</th>\n",
       "      <td>2019-08-15</td>\n",
       "      <td>B</td>\n",
       "    </tr>\n",
       "    <tr>\n",
       "      <th>7</th>\n",
       "      <td>2019-08-15</td>\n",
       "      <td>A</td>\n",
       "    </tr>\n",
       "    <tr>\n",
       "      <th>45</th>\n",
       "      <td>2019-08-16</td>\n",
       "      <td>A</td>\n",
       "    </tr>\n",
       "    <tr>\n",
       "      <th>47</th>\n",
       "      <td>2019-08-16</td>\n",
       "      <td>B</td>\n",
       "    </tr>\n",
       "    <tr>\n",
       "      <th>55</th>\n",
       "      <td>2019-08-01</td>\n",
       "      <td>A</td>\n",
       "    </tr>\n",
       "    <tr>\n",
       "      <th>...</th>\n",
       "      <td>...</td>\n",
       "      <td>...</td>\n",
       "    </tr>\n",
       "    <tr>\n",
       "      <th>1068</th>\n",
       "      <td>2019-08-12</td>\n",
       "      <td>A</td>\n",
       "    </tr>\n",
       "    <tr>\n",
       "      <th>1114</th>\n",
       "      <td>2019-08-13</td>\n",
       "      <td>B</td>\n",
       "    </tr>\n",
       "    <tr>\n",
       "      <th>1116</th>\n",
       "      <td>2019-08-13</td>\n",
       "      <td>A</td>\n",
       "    </tr>\n",
       "    <tr>\n",
       "      <th>1149</th>\n",
       "      <td>2019-08-14</td>\n",
       "      <td>B</td>\n",
       "    </tr>\n",
       "    <tr>\n",
       "      <th>1150</th>\n",
       "      <td>2019-08-14</td>\n",
       "      <td>A</td>\n",
       "    </tr>\n",
       "  </tbody>\n",
       "</table>\n",
       "<p>62 rows × 2 columns</p>\n",
       "</div>"
      ],
      "text/plain": [
       "            date group\n",
       "0     2019-08-15     B\n",
       "7     2019-08-15     A\n",
       "45    2019-08-16     A\n",
       "47    2019-08-16     B\n",
       "55    2019-08-01     A\n",
       "...          ...   ...\n",
       "1068  2019-08-12     A\n",
       "1114  2019-08-13     B\n",
       "1116  2019-08-13     A\n",
       "1149  2019-08-14     B\n",
       "1150  2019-08-14     A\n",
       "\n",
       "[62 rows x 2 columns]"
      ]
     },
     "execution_count": 30,
     "metadata": {},
     "output_type": "execute_result"
    }
   ],
   "source": [
    "dates_groups = orders[['date','group']].drop_duplicates() \n",
    "dates_groups"
   ]
  },
  {
   "cell_type": "markdown",
   "id": "7f2c5ac5",
   "metadata": {},
   "source": [
    "62 строки - по 31 на каждую из обеих групп."
   ]
  },
  {
   "cell_type": "markdown",
   "id": "fdf5771b",
   "metadata": {},
   "source": [
    "Соберём агрегированные кумулятивные по дням данные о заказах. Воспользуемся только что созданным датасетом `dates_groups` и применим к нему лямбда-функцию. Внутри лямбда-функции применим функцию `np.logical_and` (логическое \"и\") к датасету `orders`. Для каждой уникальной пары значений дат и групп теста посчитаем **с накоплением по мере увеличения даты** количество уникальных транзакций, количество уникальных идентификаторов пользователей, совершивших заказ и суммарную выручку."
   ]
  },
  {
   "cell_type": "markdown",
   "id": "52dbdc54",
   "metadata": {},
   "source": [
    "Как получается накопление?  \n",
    "\n",
    "Перебирается датасет `dates_group`. Первый из 62 шагов: есть какая-то дата и какая-то группа, оказавшиеся в первой строке этого датасета. Они становятся частью условия функции `np.logical_and`.\n",
    "\n",
    "Перебирается датасет `orders`. Питон находит **все** пары дата-группа, которые удовлетворяют обоим условиям, обозначеным внутри функции `np.logical_and`. Но из всех удовлетворяющих дат в результат пойдёт самая поздняя. Группа удовлетворяет в данный момент только одна, она и пойдёт в результат. Будут посчитаны уникальные транзакции, уникальные `'visitor_id` и сумма выручки.\n",
    "\n",
    "Второй из 62 шагов: тоже самое для новой пары дата-группа. И т.д."
   ]
  },
  {
   "cell_type": "code",
   "execution_count": 31,
   "id": "8d176a97",
   "metadata": {},
   "outputs": [
    {
     "data": {
      "text/html": [
       "<div>\n",
       "<style scoped>\n",
       "    .dataframe tbody tr th:only-of-type {\n",
       "        vertical-align: middle;\n",
       "    }\n",
       "\n",
       "    .dataframe tbody tr th {\n",
       "        vertical-align: top;\n",
       "    }\n",
       "\n",
       "    .dataframe thead th {\n",
       "        text-align: right;\n",
       "    }\n",
       "</style>\n",
       "<table border=\"1\" class=\"dataframe\">\n",
       "  <thead>\n",
       "    <tr style=\"text-align: right;\">\n",
       "      <th></th>\n",
       "      <th>date</th>\n",
       "      <th>group</th>\n",
       "      <th>transaction_id</th>\n",
       "      <th>visitor_id</th>\n",
       "      <th>revenue</th>\n",
       "    </tr>\n",
       "  </thead>\n",
       "  <tbody>\n",
       "    <tr>\n",
       "      <th>55</th>\n",
       "      <td>2019-08-01</td>\n",
       "      <td>A</td>\n",
       "      <td>23</td>\n",
       "      <td>19</td>\n",
       "      <td>142779</td>\n",
       "    </tr>\n",
       "    <tr>\n",
       "      <th>66</th>\n",
       "      <td>2019-08-01</td>\n",
       "      <td>B</td>\n",
       "      <td>17</td>\n",
       "      <td>17</td>\n",
       "      <td>59758</td>\n",
       "    </tr>\n",
       "    <tr>\n",
       "      <th>175</th>\n",
       "      <td>2019-08-02</td>\n",
       "      <td>A</td>\n",
       "      <td>42</td>\n",
       "      <td>36</td>\n",
       "      <td>234381</td>\n",
       "    </tr>\n",
       "    <tr>\n",
       "      <th>173</th>\n",
       "      <td>2019-08-02</td>\n",
       "      <td>B</td>\n",
       "      <td>40</td>\n",
       "      <td>39</td>\n",
       "      <td>221801</td>\n",
       "    </tr>\n",
       "    <tr>\n",
       "      <th>291</th>\n",
       "      <td>2019-08-03</td>\n",
       "      <td>A</td>\n",
       "      <td>66</td>\n",
       "      <td>60</td>\n",
       "      <td>346854</td>\n",
       "    </tr>\n",
       "    <tr>\n",
       "      <th>...</th>\n",
       "      <td>...</td>\n",
       "      <td>...</td>\n",
       "      <td>...</td>\n",
       "      <td>...</td>\n",
       "      <td>...</td>\n",
       "    </tr>\n",
       "    <tr>\n",
       "      <th>533</th>\n",
       "      <td>2019-08-29</td>\n",
       "      <td>B</td>\n",
       "      <td>510</td>\n",
       "      <td>490</td>\n",
       "      <td>4746610</td>\n",
       "    </tr>\n",
       "    <tr>\n",
       "      <th>757</th>\n",
       "      <td>2019-08-30</td>\n",
       "      <td>A</td>\n",
       "      <td>460</td>\n",
       "      <td>437</td>\n",
       "      <td>3311413</td>\n",
       "    </tr>\n",
       "    <tr>\n",
       "      <th>690</th>\n",
       "      <td>2019-08-30</td>\n",
       "      <td>B</td>\n",
       "      <td>531</td>\n",
       "      <td>511</td>\n",
       "      <td>4955833</td>\n",
       "    </tr>\n",
       "    <tr>\n",
       "      <th>958</th>\n",
       "      <td>2019-08-31</td>\n",
       "      <td>A</td>\n",
       "      <td>468</td>\n",
       "      <td>445</td>\n",
       "      <td>3364656</td>\n",
       "    </tr>\n",
       "    <tr>\n",
       "      <th>930</th>\n",
       "      <td>2019-08-31</td>\n",
       "      <td>B</td>\n",
       "      <td>548</td>\n",
       "      <td>528</td>\n",
       "      <td>5068972</td>\n",
       "    </tr>\n",
       "  </tbody>\n",
       "</table>\n",
       "<p>62 rows × 5 columns</p>\n",
       "</div>"
      ],
      "text/plain": [
       "           date group  transaction_id  visitor_id  revenue\n",
       "55   2019-08-01     A              23          19   142779\n",
       "66   2019-08-01     B              17          17    59758\n",
       "175  2019-08-02     A              42          36   234381\n",
       "173  2019-08-02     B              40          39   221801\n",
       "291  2019-08-03     A              66          60   346854\n",
       "..          ...   ...             ...         ...      ...\n",
       "533  2019-08-29     B             510         490  4746610\n",
       "757  2019-08-30     A             460         437  3311413\n",
       "690  2019-08-30     B             531         511  4955833\n",
       "958  2019-08-31     A             468         445  3364656\n",
       "930  2019-08-31     B             548         528  5068972\n",
       "\n",
       "[62 rows x 5 columns]"
      ]
     },
     "execution_count": 31,
     "metadata": {},
     "output_type": "execute_result"
    }
   ],
   "source": [
    "orders_aggregated = dates_groups.apply(lambda x: orders[np.logical_and(orders['date'] <= x['date'], orders['group'] == x['group'])].agg({'date' : 'max', 'group' : 'max', 'transaction_id' : 'nunique', 'visitor_id' : 'nunique', 'revenue' : 'sum'}), axis=1).sort_values(by=['date','group'])\n",
    "orders_aggregated                                                                                                                                     # для `group` можно было бы написать и `min`, это ничего бы не поменяло.                                      "
   ]
  },
  {
   "cell_type": "markdown",
   "id": "3d5de50d",
   "metadata": {},
   "source": [
    "Готово. Даты отсортировались, видно, что есть накопление. Так и должно быть.\n",
    "\n",
    "Аналогичным образом соберём агрегированные кумулятивные данные о пользователях."
   ]
  },
  {
   "cell_type": "code",
   "execution_count": 32,
   "id": "fec8629e",
   "metadata": {},
   "outputs": [
    {
     "data": {
      "text/html": [
       "<div>\n",
       "<style scoped>\n",
       "    .dataframe tbody tr th:only-of-type {\n",
       "        vertical-align: middle;\n",
       "    }\n",
       "\n",
       "    .dataframe tbody tr th {\n",
       "        vertical-align: top;\n",
       "    }\n",
       "\n",
       "    .dataframe thead th {\n",
       "        text-align: right;\n",
       "    }\n",
       "</style>\n",
       "<table border=\"1\" class=\"dataframe\">\n",
       "  <thead>\n",
       "    <tr style=\"text-align: right;\">\n",
       "      <th></th>\n",
       "      <th>date</th>\n",
       "      <th>group</th>\n",
       "      <th>visitors</th>\n",
       "    </tr>\n",
       "  </thead>\n",
       "  <tbody>\n",
       "    <tr>\n",
       "      <th>55</th>\n",
       "      <td>2019-08-01</td>\n",
       "      <td>A</td>\n",
       "      <td>719</td>\n",
       "    </tr>\n",
       "    <tr>\n",
       "      <th>66</th>\n",
       "      <td>2019-08-01</td>\n",
       "      <td>B</td>\n",
       "      <td>713</td>\n",
       "    </tr>\n",
       "    <tr>\n",
       "      <th>175</th>\n",
       "      <td>2019-08-02</td>\n",
       "      <td>A</td>\n",
       "      <td>1338</td>\n",
       "    </tr>\n",
       "    <tr>\n",
       "      <th>173</th>\n",
       "      <td>2019-08-02</td>\n",
       "      <td>B</td>\n",
       "      <td>1294</td>\n",
       "    </tr>\n",
       "    <tr>\n",
       "      <th>291</th>\n",
       "      <td>2019-08-03</td>\n",
       "      <td>A</td>\n",
       "      <td>1845</td>\n",
       "    </tr>\n",
       "    <tr>\n",
       "      <th>...</th>\n",
       "      <td>...</td>\n",
       "      <td>...</td>\n",
       "      <td>...</td>\n",
       "    </tr>\n",
       "    <tr>\n",
       "      <th>533</th>\n",
       "      <td>2019-08-29</td>\n",
       "      <td>B</td>\n",
       "      <td>17708</td>\n",
       "    </tr>\n",
       "    <tr>\n",
       "      <th>757</th>\n",
       "      <td>2019-08-30</td>\n",
       "      <td>A</td>\n",
       "      <td>18037</td>\n",
       "    </tr>\n",
       "    <tr>\n",
       "      <th>690</th>\n",
       "      <td>2019-08-30</td>\n",
       "      <td>B</td>\n",
       "      <td>18198</td>\n",
       "    </tr>\n",
       "    <tr>\n",
       "      <th>958</th>\n",
       "      <td>2019-08-31</td>\n",
       "      <td>A</td>\n",
       "      <td>18736</td>\n",
       "    </tr>\n",
       "    <tr>\n",
       "      <th>930</th>\n",
       "      <td>2019-08-31</td>\n",
       "      <td>B</td>\n",
       "      <td>18916</td>\n",
       "    </tr>\n",
       "  </tbody>\n",
       "</table>\n",
       "<p>62 rows × 3 columns</p>\n",
       "</div>"
      ],
      "text/plain": [
       "           date group  visitors\n",
       "55   2019-08-01     A       719\n",
       "66   2019-08-01     B       713\n",
       "175  2019-08-02     A      1338\n",
       "173  2019-08-02     B      1294\n",
       "291  2019-08-03     A      1845\n",
       "..          ...   ...       ...\n",
       "533  2019-08-29     B     17708\n",
       "757  2019-08-30     A     18037\n",
       "690  2019-08-30     B     18198\n",
       "958  2019-08-31     A     18736\n",
       "930  2019-08-31     B     18916\n",
       "\n",
       "[62 rows x 3 columns]"
      ]
     },
     "execution_count": 32,
     "metadata": {},
     "output_type": "execute_result"
    }
   ],
   "source": [
    "visitors_aggregated = dates_groups.apply(lambda x: visi[np.logical_and(visi['date'] <= x['date'], visi['group'] == x['group'])].agg({'date' : 'max', 'group' : 'max', 'visitors' : 'sum'}), axis=1).sort_values(by=['date','group'])\n",
    "visitors_aggregated   "
   ]
  },
  {
   "cell_type": "markdown",
   "id": "796e7971",
   "metadata": {},
   "source": [
    "Готово. Даты отсортировались, видно, что есть накопление.\n",
    "\n",
    "Теперь объединим датасеты `orders_aggregated` и `visitors_aggregated` и переименуем некоторые столбцы."
   ]
  },
  {
   "cell_type": "code",
   "execution_count": 33,
   "id": "64e0f400",
   "metadata": {},
   "outputs": [
    {
     "data": {
      "text/html": [
       "<div>\n",
       "<style scoped>\n",
       "    .dataframe tbody tr th:only-of-type {\n",
       "        vertical-align: middle;\n",
       "    }\n",
       "\n",
       "    .dataframe tbody tr th {\n",
       "        vertical-align: top;\n",
       "    }\n",
       "\n",
       "    .dataframe thead th {\n",
       "        text-align: right;\n",
       "    }\n",
       "</style>\n",
       "<table border=\"1\" class=\"dataframe\">\n",
       "  <thead>\n",
       "    <tr style=\"text-align: right;\">\n",
       "      <th></th>\n",
       "      <th>date</th>\n",
       "      <th>group</th>\n",
       "      <th>transactions</th>\n",
       "      <th>buyers</th>\n",
       "      <th>revenue</th>\n",
       "      <th>visitors</th>\n",
       "    </tr>\n",
       "  </thead>\n",
       "  <tbody>\n",
       "    <tr>\n",
       "      <th>0</th>\n",
       "      <td>2019-08-01</td>\n",
       "      <td>A</td>\n",
       "      <td>23</td>\n",
       "      <td>19</td>\n",
       "      <td>142779</td>\n",
       "      <td>719</td>\n",
       "    </tr>\n",
       "    <tr>\n",
       "      <th>1</th>\n",
       "      <td>2019-08-01</td>\n",
       "      <td>B</td>\n",
       "      <td>17</td>\n",
       "      <td>17</td>\n",
       "      <td>59758</td>\n",
       "      <td>713</td>\n",
       "    </tr>\n",
       "    <tr>\n",
       "      <th>2</th>\n",
       "      <td>2019-08-02</td>\n",
       "      <td>A</td>\n",
       "      <td>42</td>\n",
       "      <td>36</td>\n",
       "      <td>234381</td>\n",
       "      <td>1338</td>\n",
       "    </tr>\n",
       "    <tr>\n",
       "      <th>3</th>\n",
       "      <td>2019-08-02</td>\n",
       "      <td>B</td>\n",
       "      <td>40</td>\n",
       "      <td>39</td>\n",
       "      <td>221801</td>\n",
       "      <td>1294</td>\n",
       "    </tr>\n",
       "    <tr>\n",
       "      <th>4</th>\n",
       "      <td>2019-08-03</td>\n",
       "      <td>A</td>\n",
       "      <td>66</td>\n",
       "      <td>60</td>\n",
       "      <td>346854</td>\n",
       "      <td>1845</td>\n",
       "    </tr>\n",
       "    <tr>\n",
       "      <th>...</th>\n",
       "      <td>...</td>\n",
       "      <td>...</td>\n",
       "      <td>...</td>\n",
       "      <td>...</td>\n",
       "      <td>...</td>\n",
       "      <td>...</td>\n",
       "    </tr>\n",
       "    <tr>\n",
       "      <th>57</th>\n",
       "      <td>2019-08-29</td>\n",
       "      <td>B</td>\n",
       "      <td>510</td>\n",
       "      <td>490</td>\n",
       "      <td>4746610</td>\n",
       "      <td>17708</td>\n",
       "    </tr>\n",
       "    <tr>\n",
       "      <th>58</th>\n",
       "      <td>2019-08-30</td>\n",
       "      <td>A</td>\n",
       "      <td>460</td>\n",
       "      <td>437</td>\n",
       "      <td>3311413</td>\n",
       "      <td>18037</td>\n",
       "    </tr>\n",
       "    <tr>\n",
       "      <th>59</th>\n",
       "      <td>2019-08-30</td>\n",
       "      <td>B</td>\n",
       "      <td>531</td>\n",
       "      <td>511</td>\n",
       "      <td>4955833</td>\n",
       "      <td>18198</td>\n",
       "    </tr>\n",
       "    <tr>\n",
       "      <th>60</th>\n",
       "      <td>2019-08-31</td>\n",
       "      <td>A</td>\n",
       "      <td>468</td>\n",
       "      <td>445</td>\n",
       "      <td>3364656</td>\n",
       "      <td>18736</td>\n",
       "    </tr>\n",
       "    <tr>\n",
       "      <th>61</th>\n",
       "      <td>2019-08-31</td>\n",
       "      <td>B</td>\n",
       "      <td>548</td>\n",
       "      <td>528</td>\n",
       "      <td>5068972</td>\n",
       "      <td>18916</td>\n",
       "    </tr>\n",
       "  </tbody>\n",
       "</table>\n",
       "<p>62 rows × 6 columns</p>\n",
       "</div>"
      ],
      "text/plain": [
       "          date group  transactions  buyers  revenue  visitors\n",
       "0   2019-08-01     A            23      19   142779       719\n",
       "1   2019-08-01     B            17      17    59758       713\n",
       "2   2019-08-02     A            42      36   234381      1338\n",
       "3   2019-08-02     B            40      39   221801      1294\n",
       "4   2019-08-03     A            66      60   346854      1845\n",
       "..         ...   ...           ...     ...      ...       ...\n",
       "57  2019-08-29     B           510     490  4746610     17708\n",
       "58  2019-08-30     A           460     437  3311413     18037\n",
       "59  2019-08-30     B           531     511  4955833     18198\n",
       "60  2019-08-31     A           468     445  3364656     18736\n",
       "61  2019-08-31     B           548     528  5068972     18916\n",
       "\n",
       "[62 rows x 6 columns]"
      ]
     },
     "execution_count": 33,
     "metadata": {},
     "output_type": "execute_result"
    }
   ],
   "source": [
    "cumulative_data = orders_aggregated.merge(visitors_aggregated, left_on=['date', 'group'], right_on=['date', 'group'])\n",
    "cumulative_data.columns=['date', 'group', 'transactions', 'buyers', 'revenue', 'visitors']\n",
    "cumulative_data"
   ]
  },
  {
   "cell_type": "markdown",
   "id": "6bca4079",
   "metadata": {},
   "source": [
    "<a id='p2.1'></a>\n",
    "#### а) Графики кумулятивной выручки по группам "
   ]
  },
  {
   "cell_type": "markdown",
   "id": "6f42ca2f",
   "metadata": {},
   "source": [
    "Теперь можно строить графики кумулятивной выручки по группам."
   ]
  },
  {
   "cell_type": "code",
   "execution_count": 34,
   "id": "dd5a3798",
   "metadata": {},
   "outputs": [
    {
     "data": {
      "image/png": "[encoded data removed]",
      "text/plain": [
       "<Figure size 1080x360 with 1 Axes>"
      ]
     },
     "metadata": {
      "needs_background": "light"
     },
     "output_type": "display_data"
    }
   ],
   "source": [
    "cumulative_revenue_a = cumulative_data.loc[cumulative_data['group'] == 'A'][['date', 'revenue', 'transactions']]\n",
    "cumulative_revenue_b = cumulative_data.loc[cumulative_data['group'] == 'B'][['date', 'revenue', 'transactions']]\n",
    "plt.figure(figsize=(15,5))\n",
    "plt.plot(cumulative_revenue_a['date'], cumulative_revenue_a['revenue'], label='A')\n",
    "plt.plot(cumulative_revenue_b['date'], cumulative_revenue_b['revenue'], label='B')\n",
    "plt.xlabel('date', fontsize=16)\n",
    "plt.ylabel('revenue ($money$)', fontsize=16)\n",
    "plt.xticks(rotation=90)\n",
    "plt.title('cumulative revenue from date', fontsize=18)\n",
    "plt.legend()\n",
    "plt.show()"
   ]
  },
  {
   "cell_type": "markdown",
   "id": "afb8068d",
   "metadata": {},
   "source": [
    "Сначала выручка накапливалась в одном темпе. Затем группа В стала ненамного опережать группу А. Затем они пеменялись. Затем произошёл резкий скачок у группы В. Это, наверняка, выброс (очень крупная покупка). Дальше темпы роста снова были плюс-минус одинаковыми."
   ]
  },
  {
   "cell_type": "markdown",
   "id": "cf45ea46",
   "metadata": {},
   "source": [
    "<a id='p2.2'></a>\n",
    "#### б) Графики кумулятивного среднего чека по группам"
   ]
  },
  {
   "cell_type": "markdown",
   "id": "85c22257",
   "metadata": {},
   "source": [
    "Для построения графиков кумулятивного среднего чека (т.е. среднюю выручку с одной транзакции) нужно разделить кумулятивную выручку на кумулятивное число заказов."
   ]
  },
  {
   "cell_type": "code",
   "execution_count": 35,
   "id": "aa9f238f",
   "metadata": {},
   "outputs": [
    {
     "data": {
      "image/png": "[encoded data removed]",
      "text/plain": [
       "<Figure size 1080x360 with 1 Axes>"
      ]
     },
     "metadata": {
      "needs_background": "light"
     },
     "output_type": "display_data"
    }
   ],
   "source": [
    "plt.figure(figsize=(15,5))\n",
    "plt.plot(cumulative_revenue_a['date'], cumulative_revenue_a['revenue'] / cumulative_revenue_a['transactions'], label='A')\n",
    "plt.plot(cumulative_revenue_b['date'], cumulative_revenue_b['revenue'] / cumulative_revenue_b['transactions'], label='B')\n",
    "plt.xlabel('date', fontsize=16)\n",
    "plt.ylabel('mean revenue per transaction ($money/transaction$)', fontsize=14)\n",
    "plt.xticks(rotation=90)\n",
    "plt.title('mean cumulative revenue per transaction from date', fontsize=18)\n",
    "plt.legend()\n",
    "plt.show()"
   ]
  },
  {
   "cell_type": "markdown",
   "id": "8cfa4dd3",
   "metadata": {},
   "source": [
    "Тот же резкий скачок между 18-19 августа у группы В, после которого остался длинный высокий шлейф. Это объясняется тем, что мы построили график именно для кумулятивных значений. Если бы мы строили не кумулятивный график, то сразу же после резкого роста был бы резкий спад.\n",
    "\n",
    "***Мне это напомнило получение зарплаты. Резко становится много денег, которые медленно, но верно будут убывать до следующей зарплаты (на языке кумулятвной выручки - до следующей крупной выручки).***"
   ]
  },
  {
   "cell_type": "markdown",
   "id": "cf7d2427",
   "metadata": {},
   "source": [
    "Однако, в нашем случае графики не внесли ясности, какая же из групп действительно показывает лучшие результаты. К счастью, есть ещё методы."
   ]
  },
  {
   "cell_type": "markdown",
   "id": "4d8549a5",
   "metadata": {},
   "source": [
    "<a id='p2.3'></a>\n",
    "#### в) График относительного изменения кумулятивного среднего чека группы B к группе A"
   ]
  },
  {
   "cell_type": "markdown",
   "id": "53de4e1a",
   "metadata": {},
   "source": [
    "Этот график хорош тем, что при равенстве кумулятивных средних чеков друг другу значение по оси ординат равно нулю."
   ]
  },
  {
   "cell_type": "code",
   "execution_count": 36,
   "id": "35835144",
   "metadata": {},
   "outputs": [
    {
     "data": {
      "text/html": [
       "<div>\n",
       "<style scoped>\n",
       "    .dataframe tbody tr th:only-of-type {\n",
       "        vertical-align: middle;\n",
       "    }\n",
       "\n",
       "    .dataframe tbody tr th {\n",
       "        vertical-align: top;\n",
       "    }\n",
       "\n",
       "    .dataframe thead th {\n",
       "        text-align: right;\n",
       "    }\n",
       "</style>\n",
       "<table border=\"1\" class=\"dataframe\">\n",
       "  <thead>\n",
       "    <tr style=\"text-align: right;\">\n",
       "      <th></th>\n",
       "      <th>date</th>\n",
       "      <th>revenue_a</th>\n",
       "      <th>transactions_a</th>\n",
       "      <th>revenue_b</th>\n",
       "      <th>transactions_b</th>\n",
       "    </tr>\n",
       "  </thead>\n",
       "  <tbody>\n",
       "    <tr>\n",
       "      <th>0</th>\n",
       "      <td>2019-08-01</td>\n",
       "      <td>142779</td>\n",
       "      <td>23</td>\n",
       "      <td>59758</td>\n",
       "      <td>17</td>\n",
       "    </tr>\n",
       "    <tr>\n",
       "      <th>1</th>\n",
       "      <td>2019-08-02</td>\n",
       "      <td>234381</td>\n",
       "      <td>42</td>\n",
       "      <td>221801</td>\n",
       "      <td>40</td>\n",
       "    </tr>\n",
       "    <tr>\n",
       "      <th>2</th>\n",
       "      <td>2019-08-03</td>\n",
       "      <td>346854</td>\n",
       "      <td>66</td>\n",
       "      <td>288850</td>\n",
       "      <td>54</td>\n",
       "    </tr>\n",
       "  </tbody>\n",
       "</table>\n",
       "</div>"
      ],
      "text/plain": [
       "         date  revenue_a  transactions_a  revenue_b  transactions_b\n",
       "0  2019-08-01     142779              23      59758              17\n",
       "1  2019-08-02     234381              42     221801              40\n",
       "2  2019-08-03     346854              66     288850              54"
      ]
     },
     "execution_count": 36,
     "metadata": {},
     "output_type": "execute_result"
    }
   ],
   "source": [
    "merged_cumulative_revenue = cumulative_revenue_a.merge(cumulative_revenue_b, left_on='date', right_on='date', how='left', suffixes=['_a', '_b'])\n",
    "merged_cumulative_revenue.head(3)"
   ]
  },
  {
   "cell_type": "code",
   "execution_count": 37,
   "id": "1b5cb131",
   "metadata": {},
   "outputs": [
    {
     "data": {
      "image/png": "[encoded data removed]",
      "text/plain": [
       "<Figure size 1080x360 with 1 Axes>"
      ]
     },
     "metadata": {
      "needs_background": "light"
     },
     "output_type": "display_data"
    }
   ],
   "source": [
    "plt.figure(figsize=(15,5))\n",
    "plt.plot(merged_cumulative_revenue['date'], ((merged_cumulative_revenue['revenue_b'] / \\\n",
    "                                              merged_cumulative_revenue['transactions_b']) \\\n",
    "                                             / (merged_cumulative_revenue['revenue_a'] / \\\n",
    "                                                merged_cumulative_revenue['transactions_a']) - 1))\n",
    "plt.axhline(y=0, color='black', linestyle='--') \n",
    "plt.xlabel('date', fontsize=16)\n",
    "plt.ylabel('relative difference for mean cumulative transaction ($dimensionless$)', fontsize=12) # ВОТ ЖЕ ПОДПИСЬ\n",
    "plt.xticks(rotation=90)\n",
    "plt.title('relative difference for mean cumulative transaction from date', fontsize=18)\n",
    "plt.show()"
   ]
  },
  {
   "cell_type": "markdown",
   "id": "3f253845",
   "metadata": {},
   "source": [
    "На участках графика ниже нуля кумулятивный средний чек больше у группы А. Выше нуля - у группы В. Но можно ли быть уверенным в том, что группа В так и останется лидером? Ведь после выброса график пополз вниз. Пока что ответа нет."
   ]
  },
  {
   "cell_type": "markdown",
   "id": "8b6e14b9",
   "metadata": {},
   "source": [
    "<a id='p2.4'></a>\n",
    "#### г) Графики кумулятивной конверсии по группам"
   ]
  },
  {
   "cell_type": "markdown",
   "id": "d15ef3f2",
   "metadata": {},
   "source": [
    "Вычислим конверсию и посторим графики."
   ]
  },
  {
   "cell_type": "code",
   "execution_count": 38,
   "id": "4a88111b",
   "metadata": {},
   "outputs": [
    {
     "data": {
      "image/png": "[encoded data removed]",
      "text/plain": [
       "<Figure size 1080x360 with 1 Axes>"
      ]
     },
     "metadata": {
      "needs_background": "light"
     },
     "output_type": "display_data"
    }
   ],
   "source": [
    "cumulative_data['conversion'] = cumulative_data['transactions'] / cumulative_data['visitors']\n",
    "cumulative_data_a = cumulative_data.loc[cumulative_data['group'] == 'A']\n",
    "cumulative_data_b = cumulative_data.loc[cumulative_data['group'] == 'B']\n",
    "\n",
    "plt.figure(figsize=(15,5))\n",
    "plt.plot(cumulative_data_a['date'], cumulative_data_a['conversion'], label='A')\n",
    "plt.plot(cumulative_data_b['date'], cumulative_data_b['conversion'], label='B')\n",
    "plt.xlabel('date', fontsize=16)\n",
    "plt.ylabel('cumulative conversion ($dimensioless$)', fontsize=16)\n",
    "plt.xticks(rotation=90)\n",
    "plt.title('cumulative conversion from date', fontsize=18)\n",
    "plt.legend()\n",
    "plt.show()"
   ]
  },
  {
   "cell_type": "markdown",
   "id": "3e1bf344",
   "metadata": {},
   "source": [
    "Кумулятивная конверсия большую часть месяца лучше у группы B. Но всего лишь на 0.5-0.8 процентных пунктов. Не так уж и много."
   ]
  },
  {
   "cell_type": "markdown",
   "id": "ac2841b2",
   "metadata": {},
   "source": [
    "<a id='p2.5'></a>\n",
    "#### д) График относительного изменения кумулятивной конверсии группы B к группе A"
   ]
  },
  {
   "cell_type": "markdown",
   "id": "7651887c",
   "metadata": {},
   "source": [
    "Без лишних слов построим график."
   ]
  },
  {
   "cell_type": "code",
   "execution_count": 39,
   "id": "d4137ebe",
   "metadata": {},
   "outputs": [
    {
     "data": {
      "text/html": [
       "<div>\n",
       "<style scoped>\n",
       "    .dataframe tbody tr th:only-of-type {\n",
       "        vertical-align: middle;\n",
       "    }\n",
       "\n",
       "    .dataframe tbody tr th {\n",
       "        vertical-align: top;\n",
       "    }\n",
       "\n",
       "    .dataframe thead th {\n",
       "        text-align: right;\n",
       "    }\n",
       "</style>\n",
       "<table border=\"1\" class=\"dataframe\">\n",
       "  <thead>\n",
       "    <tr style=\"text-align: right;\">\n",
       "      <th></th>\n",
       "      <th>date</th>\n",
       "      <th>conversion_a</th>\n",
       "      <th>conversion_b</th>\n",
       "    </tr>\n",
       "  </thead>\n",
       "  <tbody>\n",
       "    <tr>\n",
       "      <th>0</th>\n",
       "      <td>2019-08-01</td>\n",
       "      <td>0.031989</td>\n",
       "      <td>0.023843</td>\n",
       "    </tr>\n",
       "    <tr>\n",
       "      <th>1</th>\n",
       "      <td>2019-08-02</td>\n",
       "      <td>0.031390</td>\n",
       "      <td>0.030912</td>\n",
       "    </tr>\n",
       "    <tr>\n",
       "      <th>2</th>\n",
       "      <td>2019-08-03</td>\n",
       "      <td>0.035772</td>\n",
       "      <td>0.029950</td>\n",
       "    </tr>\n",
       "  </tbody>\n",
       "</table>\n",
       "</div>"
      ],
      "text/plain": [
       "         date  conversion_a  conversion_b\n",
       "0  2019-08-01      0.031989      0.023843\n",
       "1  2019-08-02      0.031390      0.030912\n",
       "2  2019-08-03      0.035772      0.029950"
      ]
     },
     "execution_count": 39,
     "metadata": {},
     "output_type": "execute_result"
    }
   ],
   "source": [
    "merged_cumulative_conversion = cumulative_data_a[['date', 'conversion']].merge(cumulative_data_b[['date', 'conversion']], \\\n",
    "                                                                               left_on='date', right_on='date', how='left', \\\n",
    "                                                                               suffixes=['_a', '_b'])\n",
    "merged_cumulative_conversion.head(3)"
   ]
  },
  {
   "cell_type": "code",
   "execution_count": 40,
   "id": "b9048c11",
   "metadata": {},
   "outputs": [
    {
     "data": {
      "image/png": "[encoded data removed]",
      "text/plain": [
       "<Figure size 1080x360 with 1 Axes>"
      ]
     },
     "metadata": {
      "needs_background": "light"
     },
     "output_type": "display_data"
    }
   ],
   "source": [
    "plt.figure(figsize=(15,5))\n",
    "plt.plot(merged_cumulative_conversion['date'], (merged_cumulative_conversion['conversion_b'] / merged_cumulative_conversion['conversion_a'] - 1))\n",
    "plt.axhline(y=0, color='black', linestyle='--') \n",
    "plt.xlabel('date', fontsize=16)\n",
    "plt.ylabel('relative difference for mean cumulative conversions ($dimensionless$)', fontsize=12)\n",
    "plt.xticks(rotation=90)\n",
    "plt.title('relative difference for mean cumulative conversions from date', fontsize=18)\n",
    "plt.show()"
   ]
  },
  {
   "cell_type": "markdown",
   "id": "dd1d2245",
   "metadata": {},
   "source": [
    "Там, где график выше нуля (почти везде) кумулятивная конверсия у группы В лучше, чем у группы А. Но стоит иметь в виду, что этот график ещё не вышел на установившийся режим. "
   ]
  },
  {
   "cell_type": "markdown",
   "id": "b8558e67",
   "metadata": {},
   "source": [
    "<a id='p2.6'></a>\n",
    "#### е) Точечный график количества заказов по пользователям"
   ]
  },
  {
   "cell_type": "markdown",
   "id": "0a9e90a0",
   "metadata": {},
   "source": [
    "Чтобы понять, какая же из двух групп принесёт в дальнейшем больше выручки, чем другая (при условии, что они всё-таки различаются), нужно найти и вычистить аномалии. Займёмся этим.\n",
    "\n",
    "Ранее мы уже выяснили, применив `orders['visitor_id'].value_counts()`, что есть некоторые пользователи, совершившие ощутимо больше покупок, чем остальные. Отобразим их на диаграмме рассеяния."
   ]
  },
  {
   "cell_type": "code",
   "execution_count": 41,
   "id": "e1f46fa9",
   "metadata": {},
   "outputs": [
    {
     "data": {
      "text/html": [
       "<div>\n",
       "<style scoped>\n",
       "    .dataframe tbody tr th:only-of-type {\n",
       "        vertical-align: middle;\n",
       "    }\n",
       "\n",
       "    .dataframe tbody tr th {\n",
       "        vertical-align: top;\n",
       "    }\n",
       "\n",
       "    .dataframe thead th {\n",
       "        text-align: right;\n",
       "    }\n",
       "</style>\n",
       "<table border=\"1\" class=\"dataframe\">\n",
       "  <thead>\n",
       "    <tr style=\"text-align: right;\">\n",
       "      <th></th>\n",
       "      <th>visitor_id</th>\n",
       "      <th>transactions</th>\n",
       "    </tr>\n",
       "  </thead>\n",
       "  <tbody>\n",
       "    <tr>\n",
       "      <th>0</th>\n",
       "      <td>5114589</td>\n",
       "      <td>1</td>\n",
       "    </tr>\n",
       "    <tr>\n",
       "      <th>1</th>\n",
       "      <td>6958315</td>\n",
       "      <td>1</td>\n",
       "    </tr>\n",
       "    <tr>\n",
       "      <th>2</th>\n",
       "      <td>11685486</td>\n",
       "      <td>1</td>\n",
       "    </tr>\n",
       "  </tbody>\n",
       "</table>\n",
       "</div>"
      ],
      "text/plain": [
       "   visitor_id  transactions\n",
       "0     5114589             1\n",
       "1     6958315             1\n",
       "2    11685486             1"
      ]
     },
     "execution_count": 41,
     "metadata": {},
     "output_type": "execute_result"
    }
   ],
   "source": [
    "transactions_by_visitors = orders.groupby('visitor_id', as_index=False).agg({'transaction_id': 'nunique'})\n",
    "transactions_by_visitors.columns=['visitor_id', 'transactions']\n",
    "transactions_by_visitors.head(3)"
   ]
  },
  {
   "cell_type": "code",
   "execution_count": 42,
   "id": "9e722245",
   "metadata": {},
   "outputs": [
    {
     "data": {
      "image/png": "[encoded data removed]",
      "text/plain": [
       "<Figure size 1080x288 with 1 Axes>"
      ]
     },
     "metadata": {
      "needs_background": "light"
     },
     "output_type": "display_data"
    }
   ],
   "source": [
    "x_values = pd.Series(range(0,len(transactions_by_visitors)))\n",
    "plt.figure(figsize=(15, 4))\n",
    "sns.scatterplot(x=x_values, y=transactions_by_visitors['transactions'], alpha=0.8)\n",
    "plt.xlabel('technical numbers', fontsize=16)\n",
    "plt.ylabel('transactions per visitor ($dimensionless$)', fontsize=14)\n",
    "plt.title('transactions per visitor', fontsize=18)\n",
    "plt.show()"
   ]
  },
  {
   "cell_type": "markdown",
   "id": "46ca2aaf",
   "metadata": {},
   "source": [
    "7 человек сделало по три заказа. Это не типично для выборки, но и выбросом это вряд ли можно назвать."
   ]
  },
  {
   "cell_type": "markdown",
   "id": "75481348",
   "metadata": {},
   "source": [
    "<a id='p2.7'></a>\n",
    "#### ж) 95-й и 99-й перцентили количества заказов на пользователя"
   ]
  },
  {
   "cell_type": "code",
   "execution_count": 43,
   "id": "9edc04c7",
   "metadata": {},
   "outputs": [
    {
     "data": {
      "text/plain": [
       "array([1., 2., 3.])"
      ]
     },
     "execution_count": 43,
     "metadata": {},
     "output_type": "execute_result"
    }
   ],
   "source": [
    "np.percentile(transactions_by_visitors['transactions'], [95, 99, 99.4])"
   ]
  },
  {
   "cell_type": "markdown",
   "id": "7c93ecd0",
   "metadata": {},
   "source": [
    "Несмотря на то, что пользователи с тремя заказами вышли за рамки 99-й перцентили, мы оставим их в выборке. Принципиальной разницы между 2 и 3 заказами в месяц нет."
   ]
  },
  {
   "cell_type": "markdown",
   "id": "dade8896",
   "metadata": {},
   "source": [
    "<a id='p2.8'></a>\n",
    "#### и) Диаграмма распределения стоимостей заказов"
   ]
  },
  {
   "cell_type": "code",
   "execution_count": 44,
   "id": "f3abe856",
   "metadata": {},
   "outputs": [
    {
     "data": {
      "text/html": [
       "<div>\n",
       "<style scoped>\n",
       "    .dataframe tbody tr th:only-of-type {\n",
       "        vertical-align: middle;\n",
       "    }\n",
       "\n",
       "    .dataframe tbody tr th {\n",
       "        vertical-align: top;\n",
       "    }\n",
       "\n",
       "    .dataframe thead th {\n",
       "        text-align: right;\n",
       "    }\n",
       "</style>\n",
       "<table border=\"1\" class=\"dataframe\">\n",
       "  <thead>\n",
       "    <tr style=\"text-align: right;\">\n",
       "      <th></th>\n",
       "      <th>transaction_id</th>\n",
       "      <th>visitor_id</th>\n",
       "      <th>date</th>\n",
       "      <th>revenue</th>\n",
       "      <th>group</th>\n",
       "    </tr>\n",
       "  </thead>\n",
       "  <tbody>\n",
       "    <tr>\n",
       "      <th>0</th>\n",
       "      <td>3667963787</td>\n",
       "      <td>3312258926</td>\n",
       "      <td>2019-08-15</td>\n",
       "      <td>1650</td>\n",
       "      <td>B</td>\n",
       "    </tr>\n",
       "    <tr>\n",
       "      <th>1</th>\n",
       "      <td>2804400009</td>\n",
       "      <td>3642806036</td>\n",
       "      <td>2019-08-15</td>\n",
       "      <td>730</td>\n",
       "      <td>B</td>\n",
       "    </tr>\n",
       "    <tr>\n",
       "      <th>3</th>\n",
       "      <td>3797467345</td>\n",
       "      <td>1196621759</td>\n",
       "      <td>2019-08-15</td>\n",
       "      <td>9759</td>\n",
       "      <td>B</td>\n",
       "    </tr>\n",
       "    <tr>\n",
       "      <th>4</th>\n",
       "      <td>2282983706</td>\n",
       "      <td>2322279887</td>\n",
       "      <td>2019-08-15</td>\n",
       "      <td>2308</td>\n",
       "      <td>B</td>\n",
       "    </tr>\n",
       "    <tr>\n",
       "      <th>5</th>\n",
       "      <td>182168103</td>\n",
       "      <td>935554773</td>\n",
       "      <td>2019-08-15</td>\n",
       "      <td>2210</td>\n",
       "      <td>B</td>\n",
       "    </tr>\n",
       "    <tr>\n",
       "      <th>...</th>\n",
       "      <td>...</td>\n",
       "      <td>...</td>\n",
       "      <td>...</td>\n",
       "      <td>...</td>\n",
       "      <td>...</td>\n",
       "    </tr>\n",
       "    <tr>\n",
       "      <th>1191</th>\n",
       "      <td>3592955527</td>\n",
       "      <td>608641596</td>\n",
       "      <td>2019-08-14</td>\n",
       "      <td>16490</td>\n",
       "      <td>B</td>\n",
       "    </tr>\n",
       "    <tr>\n",
       "      <th>1192</th>\n",
       "      <td>2662137336</td>\n",
       "      <td>3733762160</td>\n",
       "      <td>2019-08-14</td>\n",
       "      <td>6490</td>\n",
       "      <td>B</td>\n",
       "    </tr>\n",
       "    <tr>\n",
       "      <th>1193</th>\n",
       "      <td>2203539145</td>\n",
       "      <td>370388673</td>\n",
       "      <td>2019-08-14</td>\n",
       "      <td>3190</td>\n",
       "      <td>A</td>\n",
       "    </tr>\n",
       "    <tr>\n",
       "      <th>1194</th>\n",
       "      <td>1807773912</td>\n",
       "      <td>573423106</td>\n",
       "      <td>2019-08-14</td>\n",
       "      <td>10550</td>\n",
       "      <td>A</td>\n",
       "    </tr>\n",
       "    <tr>\n",
       "      <th>1196</th>\n",
       "      <td>3936777065</td>\n",
       "      <td>2108080724</td>\n",
       "      <td>2019-08-15</td>\n",
       "      <td>202740</td>\n",
       "      <td>B</td>\n",
       "    </tr>\n",
       "  </tbody>\n",
       "</table>\n",
       "<p>1016 rows × 5 columns</p>\n",
       "</div>"
      ],
      "text/plain": [
       "      transaction_id  visitor_id        date  revenue group\n",
       "0         3667963787  3312258926  2019-08-15     1650     B\n",
       "1         2804400009  3642806036  2019-08-15      730     B\n",
       "3         3797467345  1196621759  2019-08-15     9759     B\n",
       "4         2282983706  2322279887  2019-08-15     2308     B\n",
       "5          182168103   935554773  2019-08-15     2210     B\n",
       "...              ...         ...         ...      ...   ...\n",
       "1191      3592955527   608641596  2019-08-14    16490     B\n",
       "1192      2662137336  3733762160  2019-08-14     6490     B\n",
       "1193      2203539145   370388673  2019-08-14     3190     A\n",
       "1194      1807773912   573423106  2019-08-14    10550     A\n",
       "1196      3936777065  2108080724  2019-08-15   202740     B\n",
       "\n",
       "[1016 rows x 5 columns]"
      ]
     },
     "execution_count": 44,
     "metadata": {},
     "output_type": "execute_result"
    }
   ],
   "source": [
    "orders"
   ]
  },
  {
   "cell_type": "code",
   "execution_count": 45,
   "id": "e9491023",
   "metadata": {},
   "outputs": [
    {
     "data": {
      "image/png": "[encoded data removed]",
      "text/plain": [
       "<Figure size 1080x288 with 1 Axes>"
      ]
     },
     "metadata": {
      "needs_background": "light"
     },
     "output_type": "display_data"
    }
   ],
   "source": [
    "x_values = pd.Series(range(0,len(orders)))\n",
    "plt.figure(figsize=(15, 4))\n",
    "sns.scatterplot(x=x_values, y=orders['revenue'], alpha=0.8)\n",
    "plt.xlabel('technical numbers', fontsize=16)\n",
    "plt.ylabel('revenue ($money$)', fontsize=16)\n",
    "plt.title('revenues', fontsize=18)\n",
    "plt.show()"
   ]
  },
  {
   "cell_type": "markdown",
   "id": "2990baed",
   "metadata": {},
   "source": [
    "Есть 1 выброс. Ограничим график, чтобы рассмотреть его нижнюю часть получше."
   ]
  },
  {
   "cell_type": "code",
   "execution_count": 46,
   "id": "367b45ea",
   "metadata": {},
   "outputs": [
    {
     "data": {
      "image/png": "[encoded data removed]",
      "text/plain": [
       "<Figure size 1080x288 with 1 Axes>"
      ]
     },
     "metadata": {
      "needs_background": "light"
     },
     "output_type": "display_data"
    }
   ],
   "source": [
    "x_values = pd.Series(range(0,len(orders)))\n",
    "plt.figure(figsize=(15, 4))\n",
    "sns.scatterplot(x=x_values, y=orders.loc[orders['revenue'] < 200000, 'revenue'], alpha=0.8)\n",
    "plt.xlabel('technical numbers', fontsize=16)\n",
    "plt.ylabel('revenue ($money$)', fontsize=16)\n",
    "plt.title('revenues < 200000', fontsize=18)\n",
    "plt.show()"
   ]
  },
  {
   "cell_type": "markdown",
   "id": "b11e86ef",
   "metadata": {},
   "source": [
    "На глаз нельзя определить, что считать выбросом, а что нет. Нужно считать перцентили."
   ]
  },
  {
   "cell_type": "markdown",
   "id": "7731ef67",
   "metadata": {},
   "source": [
    "<a id='p2.9'></a>\n",
    "#### к) 95-й и 99-й перцентили стоимости заказов"
   ]
  },
  {
   "cell_type": "code",
   "execution_count": 47,
   "id": "e60a6f55",
   "metadata": {},
   "outputs": [
    {
     "data": {
      "text/plain": [
       "array([26785., 53904.])"
      ]
     },
     "execution_count": 47,
     "metadata": {},
     "output_type": "execute_result"
    }
   ],
   "source": [
    "np.percentile(orders['revenue'], [95, 99])"
   ]
  },
  {
   "cell_type": "markdown",
   "id": "fb5f3518",
   "metadata": {},
   "source": [
    "Не более 5% транзакций было на сумму больше 28000 и не более 1% транзакций было на сумму больше 53904. Установим верхнюю границу того, что мы не считаем выбросом, в 53904."
   ]
  },
  {
   "cell_type": "markdown",
   "id": "0d58a390",
   "metadata": {},
   "source": [
    "<a id='p2.10'></a>\n",
    "#### л) Статистическая значимость различий в конверсии между группами по «сырым» данным"
   ]
  },
  {
   "cell_type": "markdown",
   "id": "57b6d889",
   "metadata": {},
   "source": [
    "Посчитаем статистическую значимость различий в конверсии и среднем чеке между группами по «сырым» данным, то есть без удаления аномальных пользователей.  \n",
    "И сразу выскажем гипотезы. Нулевая: различий в конверсии между группами нет. Альтернативная: различия в конверсии между группами есть.\n",
    "\n",
    "Подготовим \"сырые\" данные: по частям соберём датасет `raw_data`."
   ]
  },
  {
   "cell_type": "code",
   "execution_count": 48,
   "id": "bffca533",
   "metadata": {},
   "outputs": [],
   "source": [
    "visitors_a_daily = visi[visi['group'] == 'A'][['date', 'visitors']]\n",
    "visitors_a_daily.columns = ['date', 'visitors_per_date_a']\n",
    "\n",
    "visitors_b_daily = visi[visi['group'] == 'B'][['date', 'visitors']]\n",
    "visitors_b_daily.columns = ['date', 'visitors_per_date_b']"
   ]
  },
  {
   "cell_type": "code",
   "execution_count": 49,
   "id": "3623bd98",
   "metadata": {},
   "outputs": [
    {
     "data": {
      "text/html": [
       "<div>\n",
       "<style scoped>\n",
       "    .dataframe tbody tr th:only-of-type {\n",
       "        vertical-align: middle;\n",
       "    }\n",
       "\n",
       "    .dataframe tbody tr th {\n",
       "        vertical-align: top;\n",
       "    }\n",
       "\n",
       "    .dataframe thead th {\n",
       "        text-align: right;\n",
       "    }\n",
       "</style>\n",
       "<table border=\"1\" class=\"dataframe\">\n",
       "  <thead>\n",
       "    <tr style=\"text-align: right;\">\n",
       "      <th></th>\n",
       "      <th>date</th>\n",
       "      <th>visitors_per_date_a</th>\n",
       "    </tr>\n",
       "  </thead>\n",
       "  <tbody>\n",
       "    <tr>\n",
       "      <th>0</th>\n",
       "      <td>2019-08-01</td>\n",
       "      <td>719</td>\n",
       "    </tr>\n",
       "    <tr>\n",
       "      <th>1</th>\n",
       "      <td>2019-08-02</td>\n",
       "      <td>619</td>\n",
       "    </tr>\n",
       "    <tr>\n",
       "      <th>2</th>\n",
       "      <td>2019-08-03</td>\n",
       "      <td>507</td>\n",
       "    </tr>\n",
       "  </tbody>\n",
       "</table>\n",
       "</div>"
      ],
      "text/plain": [
       "         date  visitors_per_date_a\n",
       "0  2019-08-01                  719\n",
       "1  2019-08-02                  619\n",
       "2  2019-08-03                  507"
      ]
     },
     "metadata": {},
     "output_type": "display_data"
    },
    {
     "data": {
      "text/html": [
       "<div>\n",
       "<style scoped>\n",
       "    .dataframe tbody tr th:only-of-type {\n",
       "        vertical-align: middle;\n",
       "    }\n",
       "\n",
       "    .dataframe tbody tr th {\n",
       "        vertical-align: top;\n",
       "    }\n",
       "\n",
       "    .dataframe thead th {\n",
       "        text-align: right;\n",
       "    }\n",
       "</style>\n",
       "<table border=\"1\" class=\"dataframe\">\n",
       "  <thead>\n",
       "    <tr style=\"text-align: right;\">\n",
       "      <th></th>\n",
       "      <th>date</th>\n",
       "      <th>visitors_per_date_b</th>\n",
       "    </tr>\n",
       "  </thead>\n",
       "  <tbody>\n",
       "    <tr>\n",
       "      <th>31</th>\n",
       "      <td>2019-08-01</td>\n",
       "      <td>713</td>\n",
       "    </tr>\n",
       "    <tr>\n",
       "      <th>32</th>\n",
       "      <td>2019-08-02</td>\n",
       "      <td>581</td>\n",
       "    </tr>\n",
       "    <tr>\n",
       "      <th>33</th>\n",
       "      <td>2019-08-03</td>\n",
       "      <td>509</td>\n",
       "    </tr>\n",
       "  </tbody>\n",
       "</table>\n",
       "</div>"
      ],
      "text/plain": [
       "          date  visitors_per_date_b\n",
       "31  2019-08-01                  713\n",
       "32  2019-08-02                  581\n",
       "33  2019-08-03                  509"
      ]
     },
     "execution_count": 49,
     "metadata": {},
     "output_type": "execute_result"
    }
   ],
   "source": [
    "display(visitors_a_daily.head(3))\n",
    "visitors_b_daily.head(3)"
   ]
  },
  {
   "cell_type": "code",
   "execution_count": 50,
   "id": "77199ea8",
   "metadata": {},
   "outputs": [],
   "source": [
    "visitors_a_cumulative = visitors_a_daily.apply(lambda x: visitors_a_daily[visitors_a_daily['date'] <= x['date']].agg({'date': 'max', 'visitors_per_date_a': 'sum'}), axis=1)\n",
    "visitors_a_cumulative.columns = ['date', 'visitors_cumulative_a']\n",
    "\n",
    "visitors_b_cumulative = visitors_b_daily.apply(lambda x: visitors_b_daily[visitors_b_daily['date'] <= x['date']].agg({'date': 'max', 'visitors_per_date_b': 'sum'}), axis=1)\n",
    "visitors_b_cumulative.columns = ['date', 'visitors_cumulative_b']"
   ]
  },
  {
   "cell_type": "code",
   "execution_count": 51,
   "id": "0996824b",
   "metadata": {},
   "outputs": [
    {
     "data": {
      "text/html": [
       "<div>\n",
       "<style scoped>\n",
       "    .dataframe tbody tr th:only-of-type {\n",
       "        vertical-align: middle;\n",
       "    }\n",
       "\n",
       "    .dataframe tbody tr th {\n",
       "        vertical-align: top;\n",
       "    }\n",
       "\n",
       "    .dataframe thead th {\n",
       "        text-align: right;\n",
       "    }\n",
       "</style>\n",
       "<table border=\"1\" class=\"dataframe\">\n",
       "  <thead>\n",
       "    <tr style=\"text-align: right;\">\n",
       "      <th></th>\n",
       "      <th>date</th>\n",
       "      <th>visitors_cumulative_a</th>\n",
       "    </tr>\n",
       "  </thead>\n",
       "  <tbody>\n",
       "    <tr>\n",
       "      <th>0</th>\n",
       "      <td>2019-08-01</td>\n",
       "      <td>719</td>\n",
       "    </tr>\n",
       "    <tr>\n",
       "      <th>1</th>\n",
       "      <td>2019-08-02</td>\n",
       "      <td>1338</td>\n",
       "    </tr>\n",
       "    <tr>\n",
       "      <th>2</th>\n",
       "      <td>2019-08-03</td>\n",
       "      <td>1845</td>\n",
       "    </tr>\n",
       "  </tbody>\n",
       "</table>\n",
       "</div>"
      ],
      "text/plain": [
       "         date  visitors_cumulative_a\n",
       "0  2019-08-01                    719\n",
       "1  2019-08-02                   1338\n",
       "2  2019-08-03                   1845"
      ]
     },
     "metadata": {},
     "output_type": "display_data"
    },
    {
     "data": {
      "text/html": [
       "<div>\n",
       "<style scoped>\n",
       "    .dataframe tbody tr th:only-of-type {\n",
       "        vertical-align: middle;\n",
       "    }\n",
       "\n",
       "    .dataframe tbody tr th {\n",
       "        vertical-align: top;\n",
       "    }\n",
       "\n",
       "    .dataframe thead th {\n",
       "        text-align: right;\n",
       "    }\n",
       "</style>\n",
       "<table border=\"1\" class=\"dataframe\">\n",
       "  <thead>\n",
       "    <tr style=\"text-align: right;\">\n",
       "      <th></th>\n",
       "      <th>date</th>\n",
       "      <th>visitors_cumulative_b</th>\n",
       "    </tr>\n",
       "  </thead>\n",
       "  <tbody>\n",
       "    <tr>\n",
       "      <th>31</th>\n",
       "      <td>2019-08-01</td>\n",
       "      <td>713</td>\n",
       "    </tr>\n",
       "    <tr>\n",
       "      <th>32</th>\n",
       "      <td>2019-08-02</td>\n",
       "      <td>1294</td>\n",
       "    </tr>\n",
       "    <tr>\n",
       "      <th>33</th>\n",
       "      <td>2019-08-03</td>\n",
       "      <td>1803</td>\n",
       "    </tr>\n",
       "  </tbody>\n",
       "</table>\n",
       "</div>"
      ],
      "text/plain": [
       "          date  visitors_cumulative_b\n",
       "31  2019-08-01                    713\n",
       "32  2019-08-02                   1294\n",
       "33  2019-08-03                   1803"
      ]
     },
     "execution_count": 51,
     "metadata": {},
     "output_type": "execute_result"
    }
   ],
   "source": [
    "display(visitors_a_cumulative.head(3))\n",
    "visitors_b_cumulative.head(3)"
   ]
  },
  {
   "cell_type": "code",
   "execution_count": 52,
   "id": "9af0a640",
   "metadata": {},
   "outputs": [],
   "source": [
    "orders_a_daily = (orders[orders['group'] == 'A'][['date', 'transaction_id', 'visitor_id', 'revenue']].groupby('date', as_index=False).agg({'transaction_id': 'nunique', 'revenue': 'sum'}))\n",
    "orders_a_daily.columns = ['date', 'orders_per_date_a', 'revenue_per_date_a']\n",
    "\n",
    "orders_b_daily = (orders[orders['group'] == 'B'][['date', 'transaction_id', 'visitor_id', 'revenue']].groupby('date', as_index=False).agg({'transaction_id': 'nunique', 'revenue': 'sum'}))\n",
    "orders_b_daily.columns = ['date', 'orders_per_date_b', 'revenue_per_date_b']"
   ]
  },
  {
   "cell_type": "code",
   "execution_count": 53,
   "id": "f3aa21c0",
   "metadata": {},
   "outputs": [
    {
     "data": {
      "text/html": [
       "<div>\n",
       "<style scoped>\n",
       "    .dataframe tbody tr th:only-of-type {\n",
       "        vertical-align: middle;\n",
       "    }\n",
       "\n",
       "    .dataframe tbody tr th {\n",
       "        vertical-align: top;\n",
       "    }\n",
       "\n",
       "    .dataframe thead th {\n",
       "        text-align: right;\n",
       "    }\n",
       "</style>\n",
       "<table border=\"1\" class=\"dataframe\">\n",
       "  <thead>\n",
       "    <tr style=\"text-align: right;\">\n",
       "      <th></th>\n",
       "      <th>date</th>\n",
       "      <th>orders_per_date_a</th>\n",
       "      <th>revenue_per_date_a</th>\n",
       "    </tr>\n",
       "  </thead>\n",
       "  <tbody>\n",
       "    <tr>\n",
       "      <th>0</th>\n",
       "      <td>2019-08-01</td>\n",
       "      <td>23</td>\n",
       "      <td>142779</td>\n",
       "    </tr>\n",
       "    <tr>\n",
       "      <th>1</th>\n",
       "      <td>2019-08-02</td>\n",
       "      <td>19</td>\n",
       "      <td>91602</td>\n",
       "    </tr>\n",
       "    <tr>\n",
       "      <th>2</th>\n",
       "      <td>2019-08-03</td>\n",
       "      <td>24</td>\n",
       "      <td>112473</td>\n",
       "    </tr>\n",
       "  </tbody>\n",
       "</table>\n",
       "</div>"
      ],
      "text/plain": [
       "         date  orders_per_date_a  revenue_per_date_a\n",
       "0  2019-08-01                 23              142779\n",
       "1  2019-08-02                 19               91602\n",
       "2  2019-08-03                 24              112473"
      ]
     },
     "metadata": {},
     "output_type": "display_data"
    },
    {
     "data": {
      "text/html": [
       "<div>\n",
       "<style scoped>\n",
       "    .dataframe tbody tr th:only-of-type {\n",
       "        vertical-align: middle;\n",
       "    }\n",
       "\n",
       "    .dataframe tbody tr th {\n",
       "        vertical-align: top;\n",
       "    }\n",
       "\n",
       "    .dataframe thead th {\n",
       "        text-align: right;\n",
       "    }\n",
       "</style>\n",
       "<table border=\"1\" class=\"dataframe\">\n",
       "  <thead>\n",
       "    <tr style=\"text-align: right;\">\n",
       "      <th></th>\n",
       "      <th>date</th>\n",
       "      <th>orders_per_date_b</th>\n",
       "      <th>revenue_per_date_b</th>\n",
       "    </tr>\n",
       "  </thead>\n",
       "  <tbody>\n",
       "    <tr>\n",
       "      <th>0</th>\n",
       "      <td>2019-08-01</td>\n",
       "      <td>17</td>\n",
       "      <td>59758</td>\n",
       "    </tr>\n",
       "    <tr>\n",
       "      <th>1</th>\n",
       "      <td>2019-08-02</td>\n",
       "      <td>23</td>\n",
       "      <td>162043</td>\n",
       "    </tr>\n",
       "    <tr>\n",
       "      <th>2</th>\n",
       "      <td>2019-08-03</td>\n",
       "      <td>14</td>\n",
       "      <td>67049</td>\n",
       "    </tr>\n",
       "  </tbody>\n",
       "</table>\n",
       "</div>"
      ],
      "text/plain": [
       "         date  orders_per_date_b  revenue_per_date_b\n",
       "0  2019-08-01                 17               59758\n",
       "1  2019-08-02                 23              162043\n",
       "2  2019-08-03                 14               67049"
      ]
     },
     "execution_count": 53,
     "metadata": {},
     "output_type": "execute_result"
    }
   ],
   "source": [
    "display(orders_a_daily.head(3))\n",
    "orders_b_daily.head(3)"
   ]
  },
  {
   "cell_type": "code",
   "execution_count": 54,
   "id": "5f0431fc",
   "metadata": {},
   "outputs": [],
   "source": [
    "orders_a_cumulative = orders_a_daily.apply(lambda x: orders_a_daily[orders_a_daily['date'] <= x['date']].agg({'date': 'max', 'orders_per_date_a': 'sum', 'revenue_per_date_a': 'sum'}), axis=1).sort_values(by=['date'])\n",
    "orders_a_cumulative.columns = ['date', 'orders_cumulative_a', 'revenue_cumulative_a']\n",
    "\n",
    "orders_b_cumulative = orders_b_daily.apply(lambda x: orders_b_daily[orders_b_daily['date'] <= x['date']].agg({'date': 'max', 'orders_per_date_b': 'sum', 'revenue_per_date_b': 'sum'}), axis=1).sort_values(by=['date'])\n",
    "orders_b_cumulative.columns = ['date', 'orders_cumulative_b', 'revenue_cumulative_b']"
   ]
  },
  {
   "cell_type": "code",
   "execution_count": 55,
   "id": "aff6f307",
   "metadata": {},
   "outputs": [
    {
     "data": {
      "text/html": [
       "<div>\n",
       "<style scoped>\n",
       "    .dataframe tbody tr th:only-of-type {\n",
       "        vertical-align: middle;\n",
       "    }\n",
       "\n",
       "    .dataframe tbody tr th {\n",
       "        vertical-align: top;\n",
       "    }\n",
       "\n",
       "    .dataframe thead th {\n",
       "        text-align: right;\n",
       "    }\n",
       "</style>\n",
       "<table border=\"1\" class=\"dataframe\">\n",
       "  <thead>\n",
       "    <tr style=\"text-align: right;\">\n",
       "      <th></th>\n",
       "      <th>date</th>\n",
       "      <th>orders_cumulative_a</th>\n",
       "      <th>revenue_cumulative_a</th>\n",
       "    </tr>\n",
       "  </thead>\n",
       "  <tbody>\n",
       "    <tr>\n",
       "      <th>0</th>\n",
       "      <td>2019-08-01</td>\n",
       "      <td>23</td>\n",
       "      <td>142779</td>\n",
       "    </tr>\n",
       "    <tr>\n",
       "      <th>1</th>\n",
       "      <td>2019-08-02</td>\n",
       "      <td>42</td>\n",
       "      <td>234381</td>\n",
       "    </tr>\n",
       "    <tr>\n",
       "      <th>2</th>\n",
       "      <td>2019-08-03</td>\n",
       "      <td>66</td>\n",
       "      <td>346854</td>\n",
       "    </tr>\n",
       "  </tbody>\n",
       "</table>\n",
       "</div>"
      ],
      "text/plain": [
       "         date  orders_cumulative_a  revenue_cumulative_a\n",
       "0  2019-08-01                   23                142779\n",
       "1  2019-08-02                   42                234381\n",
       "2  2019-08-03                   66                346854"
      ]
     },
     "metadata": {},
     "output_type": "display_data"
    },
    {
     "data": {
      "text/html": [
       "<div>\n",
       "<style scoped>\n",
       "    .dataframe tbody tr th:only-of-type {\n",
       "        vertical-align: middle;\n",
       "    }\n",
       "\n",
       "    .dataframe tbody tr th {\n",
       "        vertical-align: top;\n",
       "    }\n",
       "\n",
       "    .dataframe thead th {\n",
       "        text-align: right;\n",
       "    }\n",
       "</style>\n",
       "<table border=\"1\" class=\"dataframe\">\n",
       "  <thead>\n",
       "    <tr style=\"text-align: right;\">\n",
       "      <th></th>\n",
       "      <th>date</th>\n",
       "      <th>orders_cumulative_b</th>\n",
       "      <th>revenue_cumulative_b</th>\n",
       "    </tr>\n",
       "  </thead>\n",
       "  <tbody>\n",
       "    <tr>\n",
       "      <th>0</th>\n",
       "      <td>2019-08-01</td>\n",
       "      <td>17</td>\n",
       "      <td>59758</td>\n",
       "    </tr>\n",
       "    <tr>\n",
       "      <th>1</th>\n",
       "      <td>2019-08-02</td>\n",
       "      <td>40</td>\n",
       "      <td>221801</td>\n",
       "    </tr>\n",
       "    <tr>\n",
       "      <th>2</th>\n",
       "      <td>2019-08-03</td>\n",
       "      <td>54</td>\n",
       "      <td>288850</td>\n",
       "    </tr>\n",
       "  </tbody>\n",
       "</table>\n",
       "</div>"
      ],
      "text/plain": [
       "         date  orders_cumulative_b  revenue_cumulative_b\n",
       "0  2019-08-01                   17                 59758\n",
       "1  2019-08-02                   40                221801\n",
       "2  2019-08-03                   54                288850"
      ]
     },
     "execution_count": 55,
     "metadata": {},
     "output_type": "execute_result"
    }
   ],
   "source": [
    "display(orders_a_cumulative.head(3))\n",
    "orders_b_cumulative.head(3)"
   ]
  },
  {
   "cell_type": "code",
   "execution_count": 56,
   "id": "6f0ef314",
   "metadata": {},
   "outputs": [
    {
     "data": {
      "text/html": [
       "<div>\n",
       "<style scoped>\n",
       "    .dataframe tbody tr th:only-of-type {\n",
       "        vertical-align: middle;\n",
       "    }\n",
       "\n",
       "    .dataframe tbody tr th {\n",
       "        vertical-align: top;\n",
       "    }\n",
       "\n",
       "    .dataframe thead th {\n",
       "        text-align: right;\n",
       "    }\n",
       "</style>\n",
       "<table border=\"1\" class=\"dataframe\">\n",
       "  <thead>\n",
       "    <tr style=\"text-align: right;\">\n",
       "      <th></th>\n",
       "      <th>date</th>\n",
       "      <th>visitors_per_date_a</th>\n",
       "      <th>visitors_per_date_b</th>\n",
       "      <th>visitors_cumulative_a</th>\n",
       "      <th>visitors_cumulative_b</th>\n",
       "      <th>orders_per_date_a</th>\n",
       "      <th>revenue_per_date_a</th>\n",
       "      <th>orders_per_date_b</th>\n",
       "      <th>revenue_per_date_b</th>\n",
       "      <th>orders_cumulative_a</th>\n",
       "      <th>revenue_cumulative_a</th>\n",
       "      <th>orders_cumulative_b</th>\n",
       "      <th>revenue_cumulative_b</th>\n",
       "    </tr>\n",
       "  </thead>\n",
       "  <tbody>\n",
       "    <tr>\n",
       "      <th>0</th>\n",
       "      <td>2019-08-01</td>\n",
       "      <td>719</td>\n",
       "      <td>713</td>\n",
       "      <td>719</td>\n",
       "      <td>713</td>\n",
       "      <td>23</td>\n",
       "      <td>142779</td>\n",
       "      <td>17</td>\n",
       "      <td>59758</td>\n",
       "      <td>23</td>\n",
       "      <td>142779</td>\n",
       "      <td>17</td>\n",
       "      <td>59758</td>\n",
       "    </tr>\n",
       "    <tr>\n",
       "      <th>1</th>\n",
       "      <td>2019-08-02</td>\n",
       "      <td>619</td>\n",
       "      <td>581</td>\n",
       "      <td>1338</td>\n",
       "      <td>1294</td>\n",
       "      <td>19</td>\n",
       "      <td>91602</td>\n",
       "      <td>23</td>\n",
       "      <td>162043</td>\n",
       "      <td>42</td>\n",
       "      <td>234381</td>\n",
       "      <td>40</td>\n",
       "      <td>221801</td>\n",
       "    </tr>\n",
       "    <tr>\n",
       "      <th>2</th>\n",
       "      <td>2019-08-03</td>\n",
       "      <td>507</td>\n",
       "      <td>509</td>\n",
       "      <td>1845</td>\n",
       "      <td>1803</td>\n",
       "      <td>24</td>\n",
       "      <td>112473</td>\n",
       "      <td>14</td>\n",
       "      <td>67049</td>\n",
       "      <td>66</td>\n",
       "      <td>346854</td>\n",
       "      <td>54</td>\n",
       "      <td>288850</td>\n",
       "    </tr>\n",
       "  </tbody>\n",
       "</table>\n",
       "</div>"
      ],
      "text/plain": [
       "         date  visitors_per_date_a  visitors_per_date_b  \\\n",
       "0  2019-08-01                  719                  713   \n",
       "1  2019-08-02                  619                  581   \n",
       "2  2019-08-03                  507                  509   \n",
       "\n",
       "   visitors_cumulative_a  visitors_cumulative_b  orders_per_date_a  \\\n",
       "0                    719                    713                 23   \n",
       "1                   1338                   1294                 19   \n",
       "2                   1845                   1803                 24   \n",
       "\n",
       "   revenue_per_date_a  orders_per_date_b  revenue_per_date_b  \\\n",
       "0              142779                 17               59758   \n",
       "1               91602                 23              162043   \n",
       "2              112473                 14               67049   \n",
       "\n",
       "   orders_cumulative_a  revenue_cumulative_a  orders_cumulative_b  \\\n",
       "0                   23                142779                   17   \n",
       "1                   42                234381                   40   \n",
       "2                   66                346854                   54   \n",
       "\n",
       "   revenue_cumulative_b  \n",
       "0                 59758  \n",
       "1                221801  \n",
       "2                288850  "
      ]
     },
     "execution_count": 56,
     "metadata": {},
     "output_type": "execute_result"
    }
   ],
   "source": [
    "raw_data = visitors_a_daily.merge(visitors_b_daily, left_on='date', right_on='date', how='left')\\\n",
    "                           .merge(visitors_a_cumulative, left_on='date', right_on='date', how='left')\\\n",
    "                           .merge(visitors_b_cumulative, left_on='date', right_on='date', how='left')\\\n",
    "                           .merge(orders_a_daily, left_on='date', right_on='date', how='left')\\\n",
    "                           .merge(orders_b_daily, left_on='date', right_on='date', how='left')\\\n",
    "                           .merge(orders_a_cumulative, left_on='date', right_on='date', how='left')\\\n",
    "                           .merge(orders_b_cumulative, left_on='date', right_on='date', how='left')\n",
    "raw_data.head(3)"
   ]
  },
  {
   "cell_type": "markdown",
   "id": "04f16c48",
   "metadata": {},
   "source": [
    "На время отвлечёмся от только что созданного датасета `raw_data`."
   ]
  },
  {
   "cell_type": "markdown",
   "id": "de4ef30a",
   "metadata": {},
   "source": [
    "Создадим переменные `orders_by_visitors_a` и `orders_by_visitors_b`. В них для пользователей, которые заказывали хотя бы 1 раз, укажем число совершённых заказов."
   ]
  },
  {
   "cell_type": "code",
   "execution_count": 57,
   "id": "abe10371",
   "metadata": {},
   "outputs": [],
   "source": [
    "orders_by_visitors_a = (orders[orders['group'] == 'A'].groupby('visitor_id', as_index=False).agg({'transaction_id': 'nunique'}))\n",
    "orders_by_visitors_a.columns = ['visitor_id', 'orders']\n",
    "\n",
    "orders_by_visitors_b = (orders[orders['group'] == 'B'].groupby('visitor_id', as_index=False).agg({'transaction_id': 'nunique'}))\n",
    "orders_by_visitors_b.columns = ['visitor_id', 'orders']"
   ]
  },
  {
   "cell_type": "code",
   "execution_count": 58,
   "id": "5aef6733",
   "metadata": {},
   "outputs": [
    {
     "data": {
      "text/html": [
       "<div>\n",
       "<style scoped>\n",
       "    .dataframe tbody tr th:only-of-type {\n",
       "        vertical-align: middle;\n",
       "    }\n",
       "\n",
       "    .dataframe tbody tr th {\n",
       "        vertical-align: top;\n",
       "    }\n",
       "\n",
       "    .dataframe thead th {\n",
       "        text-align: right;\n",
       "    }\n",
       "</style>\n",
       "<table border=\"1\" class=\"dataframe\">\n",
       "  <thead>\n",
       "    <tr style=\"text-align: right;\">\n",
       "      <th></th>\n",
       "      <th>visitor_id</th>\n",
       "      <th>orders</th>\n",
       "    </tr>\n",
       "  </thead>\n",
       "  <tbody>\n",
       "    <tr>\n",
       "      <th>0</th>\n",
       "      <td>11685486</td>\n",
       "      <td>1</td>\n",
       "    </tr>\n",
       "    <tr>\n",
       "      <th>1</th>\n",
       "      <td>54447517</td>\n",
       "      <td>1</td>\n",
       "    </tr>\n",
       "    <tr>\n",
       "      <th>2</th>\n",
       "      <td>66685450</td>\n",
       "      <td>1</td>\n",
       "    </tr>\n",
       "  </tbody>\n",
       "</table>\n",
       "</div>"
      ],
      "text/plain": [
       "   visitor_id  orders\n",
       "0    11685486       1\n",
       "1    54447517       1\n",
       "2    66685450       1"
      ]
     },
     "metadata": {},
     "output_type": "display_data"
    },
    {
     "data": {
      "text/html": [
       "<div>\n",
       "<style scoped>\n",
       "    .dataframe tbody tr th:only-of-type {\n",
       "        vertical-align: middle;\n",
       "    }\n",
       "\n",
       "    .dataframe tbody tr th {\n",
       "        vertical-align: top;\n",
       "    }\n",
       "\n",
       "    .dataframe thead th {\n",
       "        text-align: right;\n",
       "    }\n",
       "</style>\n",
       "<table border=\"1\" class=\"dataframe\">\n",
       "  <thead>\n",
       "    <tr style=\"text-align: right;\">\n",
       "      <th></th>\n",
       "      <th>visitor_id</th>\n",
       "      <th>orders</th>\n",
       "    </tr>\n",
       "  </thead>\n",
       "  <tbody>\n",
       "    <tr>\n",
       "      <th>0</th>\n",
       "      <td>5114589</td>\n",
       "      <td>1</td>\n",
       "    </tr>\n",
       "    <tr>\n",
       "      <th>1</th>\n",
       "      <td>6958315</td>\n",
       "      <td>1</td>\n",
       "    </tr>\n",
       "    <tr>\n",
       "      <th>2</th>\n",
       "      <td>39475350</td>\n",
       "      <td>1</td>\n",
       "    </tr>\n",
       "  </tbody>\n",
       "</table>\n",
       "</div>"
      ],
      "text/plain": [
       "   visitor_id  orders\n",
       "0     5114589       1\n",
       "1     6958315       1\n",
       "2    39475350       1"
      ]
     },
     "execution_count": 58,
     "metadata": {},
     "output_type": "execute_result"
    }
   ],
   "source": [
    "display(orders_by_visitors_a.head(3))\n",
    "orders_by_visitors_b.head(3)"
   ]
  },
  {
   "cell_type": "markdown",
   "id": "2217f778",
   "metadata": {},
   "source": [
    "Для подготовки выборки к проверке по критерию Манна-Уитни объявим переменные `sample_a` и `sample_b`, в которых пользователям из разных групп будет соответствовать количество заказов. Тем, кто ничего не заказал, будут соответствовать нули. Количество нулей будет равно разнице между суммой всех пользователей группы А или В (столбец `visitors_per_date_a` или `visitors_per_date_b` датасета `raw_data`) и **количеством** (не суммой) записей о заказах в датасетах `orders_by_visitors_a` или `orders_by_visitors_b`."
   ]
  },
  {
   "cell_type": "code",
   "execution_count": 59,
   "id": "9b855fe7",
   "metadata": {},
   "outputs": [],
   "source": [
    "sample_a = pd.concat([orders_by_visitors_a['orders'], pd.Series(0, index=np.arange(raw_data['visitors_per_date_a'].sum() \\\n",
    "                                                        - len(orders_by_visitors_a['orders'])), name='orders')], axis=0)\n",
    "\n",
    "sample_b = pd.concat([orders_by_visitors_b['orders'], pd.Series(0, index=np.arange(raw_data['visitors_per_date_b'].sum() \\\n",
    "                                                        - len(orders_by_visitors_b['orders'])), name='orders')], axis=0)"
   ]
  },
  {
   "cell_type": "code",
   "execution_count": 60,
   "id": "a3166fd9",
   "metadata": {},
   "outputs": [
    {
     "data": {
      "text/plain": [
       "0        1\n",
       "1        1\n",
       "2        1\n",
       "3        1\n",
       "4        1\n",
       "        ..\n",
       "18286    0\n",
       "18287    0\n",
       "18288    0\n",
       "18289    0\n",
       "18290    0\n",
       "Name: orders, Length: 18736, dtype: int64"
      ]
     },
     "execution_count": 60,
     "metadata": {},
     "output_type": "execute_result"
    }
   ],
   "source": [
    "sample_a"
   ]
  },
  {
   "cell_type": "code",
   "execution_count": 61,
   "id": "7fa3a81f",
   "metadata": {},
   "outputs": [
    {
     "data": {
      "text/plain": [
       "0        1\n",
       "1        1\n",
       "2        1\n",
       "3        1\n",
       "4        1\n",
       "        ..\n",
       "18383    0\n",
       "18384    0\n",
       "18385    0\n",
       "18386    0\n",
       "18387    0\n",
       "Name: orders, Length: 18916, dtype: int64"
      ]
     },
     "execution_count": 61,
     "metadata": {},
     "output_type": "execute_result"
    }
   ],
   "source": [
    "sample_b"
   ]
  },
  {
   "cell_type": "markdown",
   "id": "958ab0d2",
   "metadata": {},
   "source": [
    "Проверим, чему в `sample_a` и `sample_b` равны суммы значений. Суммы должны совпасть с результатами распределения оригинального датасета `orders`."
   ]
  },
  {
   "cell_type": "code",
   "execution_count": 62,
   "id": "fc847f9e",
   "metadata": {},
   "outputs": [
    {
     "data": {
      "text/plain": [
       "468"
      ]
     },
     "execution_count": 62,
     "metadata": {},
     "output_type": "execute_result"
    }
   ],
   "source": [
    "sample_a.sum()"
   ]
  },
  {
   "cell_type": "code",
   "execution_count": 63,
   "id": "8375ec4d",
   "metadata": {},
   "outputs": [
    {
     "data": {
      "text/plain": [
       "548"
      ]
     },
     "execution_count": 63,
     "metadata": {},
     "output_type": "execute_result"
    }
   ],
   "source": [
    "sample_b.sum()"
   ]
  },
  {
   "cell_type": "code",
   "execution_count": 64,
   "id": "2a53e932",
   "metadata": {},
   "outputs": [
    {
     "data": {
      "text/plain": [
       "B    548\n",
       "A    468\n",
       "Name: group, dtype: int64"
      ]
     },
     "execution_count": 64,
     "metadata": {},
     "output_type": "execute_result"
    }
   ],
   "source": [
    "orders['group'].value_counts()"
   ]
  },
  {
   "cell_type": "markdown",
   "id": "4711e4bf",
   "metadata": {},
   "source": [
    "Есть совпадение."
   ]
  },
  {
   "cell_type": "markdown",
   "id": "a8f85c47",
   "metadata": {},
   "source": [
    "Итак, оценим, наконец, статистическую значимость различий в конверсии между группами по «сырым» данным. Посчитаем p-value."
   ]
  },
  {
   "cell_type": "markdown",
   "id": "d7587681",
   "metadata": {},
   "source": [
    "Нулевая гипотеза: различий в конверсии между группами по «сырым» данным нет. Альтернативная гипотеза: различия есть."
   ]
  },
  {
   "cell_type": "code",
   "execution_count": 65,
   "id": "d9ae907c",
   "metadata": {},
   "outputs": [
    {
     "data": {
      "text/plain": [
       "0.011"
      ]
     },
     "execution_count": 65,
     "metadata": {},
     "output_type": "execute_result"
    }
   ],
   "source": [
    "(stats.mannwhitneyu(sample_a, sample_b)[1]).round(3)"
   ]
  },
  {
   "cell_type": "markdown",
   "id": "c5da7078",
   "metadata": {},
   "source": [
    "p-value получилось больше 0.01 и меньше 0.05. Пограничная ситауция. Освежим в памяти нулевую гипотезу: \"различий в конверсии между группами нет\". Иными словами, есть 1.1%-ая вероятность получить наблюдаемое нами распределение, если различий в конверсии между группами действительно нет. В очередной раз отложим окончательные выводы."
   ]
  },
  {
   "cell_type": "markdown",
   "id": "7c0b8c8a",
   "metadata": {},
   "source": [
    "А ещё при помощи `sample_a` или `sample_b` можно найти конверсию соответствующей группы. Если сложить все значения, получим количество заказов. Если посчитать количество строк, получим общее число пользователей (не только покупателей). Поделив первое на второе, получим конверсию. То же самое, только быстро, по счастливому стечению обстоятельств можно сделать функцией `mean()`."
   ]
  },
  {
   "cell_type": "code",
   "execution_count": 66,
   "id": "093e56a6",
   "metadata": {},
   "outputs": [
    {
     "name": "stdout",
     "output_type": "stream",
     "text": [
      "0.160\n"
     ]
    }
   ],
   "source": [
    "print(\"{0:.3f}\".format(sample_b.mean() / sample_a.mean() - 1))"
   ]
  },
  {
   "cell_type": "markdown",
   "id": "7fd81b92",
   "metadata": {},
   "source": [
    "Конверсия группы В на 16% лучше, чем у группы А. Для \"сырых\" данных."
   ]
  },
  {
   "cell_type": "markdown",
   "id": "33b4612b",
   "metadata": {},
   "source": [
    "<a id='p2.11'></a>\n",
    "#### м) Статистическая значимость различий в среднем чеке заказа между группами по «сырым» данным"
   ]
  },
  {
   "cell_type": "markdown",
   "id": "1c839c8f",
   "metadata": {},
   "source": [
    "Теперь проверим статистическую значимость различий в среднем чеке между группами. Нулевая гипотеза: различий в среднем чеке между группами нет. Альтернативная гипотеза: различия в среднем чеке между группами есть."
   ]
  },
  {
   "cell_type": "code",
   "execution_count": 67,
   "id": "fab4715a",
   "metadata": {},
   "outputs": [
    {
     "data": {
      "text/plain": [
       "0.829"
      ]
     },
     "execution_count": 67,
     "metadata": {},
     "output_type": "execute_result"
    }
   ],
   "source": [
    "(stats.mannwhitneyu(orders[orders['group']=='A']['revenue'], orders[orders['group']=='B']['revenue'])[1]).round(3)"
   ]
  },
  {
   "cell_type": "markdown",
   "id": "751868ee",
   "metadata": {},
   "source": [
    "Вероятность получить наблюдамое распределение средних чеков, если различий в среднем чеке между группами действительно нет, составляет 82.9%. Это очень много. **Не отвергаем** нулевую гипотезу."
   ]
  },
  {
   "cell_type": "markdown",
   "id": "d19a9877",
   "metadata": {},
   "source": [
    "Вычислим относительные различия в среднем чеке между группами."
   ]
  },
  {
   "cell_type": "code",
   "execution_count": 68,
   "id": "bc389ba8",
   "metadata": {},
   "outputs": [
    {
     "name": "stdout",
     "output_type": "stream",
     "text": [
      "0.287\n"
     ]
    }
   ],
   "source": [
    "print('{0:.3f}'.format(orders[orders['group']=='B']['revenue'].mean()/orders[orders['group']=='A']['revenue'].mean()-1))"
   ]
  },
  {
   "cell_type": "markdown",
   "id": "31ddc770",
   "metadata": {},
   "source": [
    "Довольно большие различия, почти на 29% средний чек группы В выше, чем у группы А. На первый взгляд может показаться странным, что такое ощутимое различие в средних чеках не заставило нас отвергнуть нулевую гипотезу, но теория вероятностей - вещь упрямая."
   ]
  },
  {
   "cell_type": "markdown",
   "id": "59744238",
   "metadata": {},
   "source": [
    "<a id='p2.12'></a>\n",
    "#### н) Статистическая значимость различий в конверсии между группами по «очищенным» данным"
   ]
  },
  {
   "cell_type": "markdown",
   "id": "200446fc",
   "metadata": {},
   "source": [
    "Очистим данные от выбросов, когда сумма заказа превышает 53904.\n",
    "\n",
    "Соберём выбросы в переменную `abnormal_visitors`, где будут содержаться `visitor_id`, чьи покупки признаны аномальными."
   ]
  },
  {
   "cell_type": "code",
   "execution_count": 69,
   "id": "dd98b8ff",
   "metadata": {},
   "outputs": [
    {
     "data": {
      "text/plain": [
       "425    1920142716\n",
       "743    4133034833\n",
       "744     888512513\n",
       "Name: visitor_id, dtype: int64"
      ]
     },
     "metadata": {},
     "output_type": "display_data"
    },
    {
     "data": {
      "text/plain": [
       "9"
      ]
     },
     "execution_count": 69,
     "metadata": {},
     "output_type": "execute_result"
    }
   ],
   "source": [
    "visitors_with_many_orders = pd.concat([orders_by_visitors_a.loc[orders_by_visitors_a['orders'] > 3]['visitor_id'], \\\n",
    "                                    orders_by_visitors_b.loc[orders_by_visitors_b['orders'] > 3]['visitor_id']], axis=0)\n",
    "visitors_with_expencive_orders = orders.loc[orders['revenue'] > 53904]['visitor_id']\n",
    "abnormal_visitors = pd.concat([visitors_with_many_orders, visitors_with_expencive_orders], axis=0).drop_duplicates()\n",
    "display(abnormal_visitors.head(3))\n",
    "len(abnormal_visitors)"
   ]
  },
  {
   "cell_type": "markdown",
   "id": "c34430ae",
   "metadata": {},
   "source": [
    "9 `visitor_id`, совершили слишком крупные покупки, поэтому из дальнейшего анализа мы их исключаем."
   ]
  },
  {
   "cell_type": "code",
   "execution_count": 70,
   "id": "1fc53b17",
   "metadata": {},
   "outputs": [
    {
     "data": {
      "text/plain": [
       "0    1\n",
       "1    1\n",
       "2    1\n",
       "Name: orders, dtype: int64"
      ]
     },
     "metadata": {},
     "output_type": "display_data"
    },
    {
     "data": {
      "text/plain": [
       "0    1\n",
       "1    1\n",
       "2    1\n",
       "Name: orders, dtype: int64"
      ]
     },
     "execution_count": 70,
     "metadata": {},
     "output_type": "execute_result"
    }
   ],
   "source": [
    "sample_a_filtered = pd.concat([orders_by_visitors_a[np.logical_not(orders_by_visitors_a['visitor_id'].isin(abnormal_visitors))]['orders'],\\\n",
    "        pd.Series(0, index=np.arange(raw_data['visitors_per_date_a'].sum() - len(orders_by_visitors_a['orders'])), name='orders')], axis=0)\n",
    "sample_b_filtered = pd.concat([orders_by_visitors_b[np.logical_not(orders_by_visitors_b['visitor_id'].isin(abnormal_visitors))]['orders'],\\\n",
    "        pd.Series(0, index=np.arange(raw_data['visitors_per_date_b'].sum() - len(orders_by_visitors_b['orders'])), name='orders')], axis=0)\n",
    "display(sample_a_filtered.head(3))\n",
    "sample_b_filtered.head(3)"
   ]
  },
  {
   "cell_type": "markdown",
   "id": "d2a2fdef",
   "metadata": {},
   "source": [
    "Оценим статистическую значимость различий в конверсии между группами по «очищенным» данным. Посчитаем p-value."
   ]
  },
  {
   "cell_type": "markdown",
   "id": "4419c602",
   "metadata": {},
   "source": [
    "Нулевая гипотеза: различий в конверсии между группами по «очищенным» данным нет. Альтернативная гипотеза: различия есть."
   ]
  },
  {
   "cell_type": "code",
   "execution_count": 71,
   "id": "4ca728da",
   "metadata": {},
   "outputs": [
    {
     "data": {
      "text/plain": [
       "0.01"
      ]
     },
     "execution_count": 71,
     "metadata": {},
     "output_type": "execute_result"
    }
   ],
   "source": [
    "(stats.mannwhitneyu(sample_a_filtered, sample_b_filtered)[1]).round(3)"
   ]
  },
  {
   "cell_type": "markdown",
   "id": "e12f1322",
   "metadata": {},
   "source": [
    "Есть 1%-ая вероятность получить наблюдаемое нами распределение, если различий в конверсии между группами действительно нет.\n",
    "\n",
    "Когда мы проверяли \"сырые\" данные, p-value равнялось 0.011. Получается, что после удаления выбросов мы стали на 0.1 процентный пункт менее уверенными, в том, что различий в конверсии между группами действительно нет."
   ]
  },
  {
   "cell_type": "code",
   "execution_count": 72,
   "id": "f024bf9e",
   "metadata": {},
   "outputs": [
    {
     "name": "stdout",
     "output_type": "stream",
     "text": [
      "0.164\n"
     ]
    }
   ],
   "source": [
    "print(\"{0:.3f}\".format(sample_b_filtered.mean() / sample_a_filtered.mean() - 1))"
   ]
  },
  {
   "cell_type": "markdown",
   "id": "fff7e216",
   "metadata": {},
   "source": [
    "Для \"очищенных\" данных конверсия группы В на 16.4% лучше, чем у группы А. У \"сырых\" данных этот показатель равнялся 16%. \n",
    "\n",
    "То есть на 0.4 процентных пункта увеличилось преимущество группы В по относительной конверсии."
   ]
  },
  {
   "cell_type": "markdown",
   "id": "635aa70b",
   "metadata": {},
   "source": [
    "<a id='p2.13'></a>\n",
    "#### п) Статистическая значимость различий в среднем чеке заказа между группами по «очищенным» данным"
   ]
  },
  {
   "cell_type": "markdown",
   "id": "a4bc72b4",
   "metadata": {},
   "source": [
    "Теперь проверим статистическую значимость различий в среднем чеке между группами по очищенным данным. Гипотезы прежние. Нулевая гипотеза: различий в среднем чеке между группами нет. Альтернативная гипотеза: различия в среднем чеке между группами есть."
   ]
  },
  {
   "cell_type": "code",
   "execution_count": 73,
   "id": "a34080da",
   "metadata": {},
   "outputs": [
    {
     "data": {
      "text/plain": [
       "0.901"
      ]
     },
     "execution_count": 73,
     "metadata": {},
     "output_type": "execute_result"
    }
   ],
   "source": [
    "(stats.mannwhitneyu((orders.loc[np.logical_and(orders['group']=='A', np.logical_not(orders['visitor_id'].isin(abnormal_visitors)))]['revenue']),\\\n",
    "                    (orders.loc[np.logical_and(orders['group']=='B', np.logical_not(orders['visitor_id'].isin(abnormal_visitors)))]['revenue']))[1]).round(3)"
   ]
  },
  {
   "cell_type": "markdown",
   "id": "c78fdde6",
   "metadata": {},
   "source": [
    "Вероятность получить наблюдамое распределение средних чеков по \"очищенным\" данным, если различий в среднем чеке между группами действительно нет, составляет 90.1%. Это снова очень много. **Не отвергаем** нулевую гипотезу.\n",
    "Когда мы проверяли эту же величину для \"сырых\" данных, получили хоть меньший, но всё равно очень большой по рамкам p-value результат 82.9%."
   ]
  },
  {
   "cell_type": "markdown",
   "id": "5d08ae5d",
   "metadata": {},
   "source": [
    "А как изменились после удаления выбросов относительные различия в среднем чеке?"
   ]
  },
  {
   "cell_type": "markdown",
   "id": "7b281fb0",
   "metadata": {},
   "source": [
    "Нулевая гипотеза: различий в среднем чеке между группами по «очищенным» данным нет. Альтернативная гипотеза: различия есть."
   ]
  },
  {
   "cell_type": "code",
   "execution_count": 74,
   "id": "7c39b0a1",
   "metadata": {},
   "outputs": [
    {
     "name": "stdout",
     "output_type": "stream",
     "text": [
      "-0.032\n"
     ]
    }
   ],
   "source": [
    "print('{0:.3f}'.format(orders.loc[np.logical_and(orders['group']=='B', np.logical_not(orders['visitor_id'].isin(abnormal_visitors)))]['revenue'].mean()\\\n",
    "                       / orders.loc[np.logical_and(orders['group']=='A', np.logical_not(orders['visitor_id'].isin(abnormal_visitors)))]['revenue'].mean()-1))"
   ]
  },
  {
   "cell_type": "markdown",
   "id": "9748423c",
   "metadata": {},
   "source": [
    "Если перед удалением выбросов почти на 29% средний чек группы В был выше, чем у группы А, то теперь средний чек группы А на 3.2% больше. Косвенно такие перемены можно объяснить увеличением p-value до огромных 90.1% после удаления выбросов. Ведь чем ближе к 100% p-value, тем больше стремятся уравняться величины из средних чеков."
   ]
  },
  {
   "cell_type": "markdown",
   "id": "9921b3da",
   "metadata": {},
   "source": [
    "<a id='p2.14'></a>\n",
    "#### р) Решение по результатам теста"
   ]
  },
  {
   "cell_type": "markdown",
   "id": "e919e9a6",
   "metadata": {},
   "source": [
    "Перед тем как принять окончательное решение, выпишем некоторые сделанные ранее выводы."
   ]
  },
  {
   "cell_type": "markdown",
   "id": "3a851599",
   "metadata": {},
   "source": [
    "**Кумулятивная выручка**. Сначала выручка накапливалась в одном темпе. Затем группа В стала ненамного опережать группу А. Затем они пеменялись. Затем произошёл резкий скачок у группы В. Это, наверняка, выброс (очень крупная покупка). Дальше темпы роста снова были плюс-минус одинаковыми."
   ]
  },
  {
   "cell_type": "markdown",
   "id": "c9eb4c93",
   "metadata": {},
   "source": [
    "**Сравнение конверсий после удаления выбросов.** Есть 1%-ая вероятность получить наблюдаемое нами распределение, если различий в конверсии между группами действительно нет.\n",
    "\n",
    "Когда мы проверяли \"сырые\" данные, p-value равнялось 0.011. Получается, что после удаления выбросов мы стали на 0.1 процентный пункт менее уверенными, в том, что различий в конверсии между группами действительно нет."
   ]
  },
  {
   "cell_type": "markdown",
   "id": "bf5d9141",
   "metadata": {},
   "source": [
    "**Как конверсия группы В относится к конверсии группы А после удаления выбросов.** Для \"очищенных\" данных конверсия группы В на 16.4% лучше, чем у группы А. У \"сырых\" данных этот показатель равнялся 16%. \n",
    "\n",
    "То есть на 0.4 процентных пункта увеличилось преимущество группы В по относительной конверсии."
   ]
  },
  {
   "cell_type": "markdown",
   "id": "408edfcc",
   "metadata": {},
   "source": [
    "**Сравнение распределений средних чеков после удаления выбросов.** Вероятность получить наблюдамое распределение средних чеков по \"очищенным\" данным, если различий в среднем чеке между группами действительно нет, составляет 90.1%. Это снова очень много. **Не отвергаем** нулевую гипотезу.\n",
    "Когда мы проверяли эту же величину для \"сырых\" данных, получили хоть меньший, но всё равно очень большой по рамкам p-value результат 82.9%."
   ]
  },
  {
   "cell_type": "markdown",
   "id": "fc38d67f",
   "metadata": {},
   "source": [
    "**Как средний чек группы В относится к среднему чеку группы А после удаления выбросов.** Если перед удалением выбросов почти на 29% средний чек группы В был выше, чем у группы А, то теперь средний чек группы А на 3.2% больше. Косвенно такие перемены можно объяснить увеличением p-value до огромных 90.1% после удаления выбросов. Ведь чем ближе к 100% p-value, тем больше стремятся уравняться величины из средних чеков."
   ]
  },
  {
   "cell_type": "markdown",
   "id": "9ca90782",
   "metadata": {},
   "source": [
    "Учитывая вышеизложенное..."
   ]
  },
  {
   "cell_type": "markdown",
   "id": "04a2ef6a",
   "metadata": {},
   "source": [
    "Средний чек у двух групп после удаления выбросов одинаковый. Это значит, что на пользователя (на его средний чек), который уже решил совершить покупку, наверняка **не окажет** влияние то, был он в группе А или В. Это может нас (аналитиков) обрадовать в плане того, что для принятия решения придётся ориентироваться только на конверсии, потому что равенство по одному показателю исключает гипотетечески возможные противоречия с результатами теста для другого показателя."
   ]
  },
  {
   "cell_type": "markdown",
   "id": "fbc1927a",
   "metadata": {},
   "source": [
    "Есть очень маленькая (1%), хоть и статистически значимая вероятность, получить такие результаты, которые мы получили, если конверсии двух групп после удаления выбросов действительно равны. Этому же числу равняется вероятность **ошибиться**, отклонив нулевую гипотезу, если она на самом деле была верной.\n",
    "\n",
    "Мы **не ошибёмся** с вероятностью 99%, если отклоним нулевую гипотезу о равенстве конверсий двух групп (при условии, что на самом деле верна альтернаятивная гипотеза). "
   ]
  },
  {
   "cell_type": "markdown",
   "id": "e44f99a5",
   "metadata": {},
   "source": [
    "На данном этапе теста конверсия группы В больше на 16.4%. Это очень неплохой показатель."
   ]
  },
  {
   "cell_type": "markdown",
   "id": "cc045e0e",
   "metadata": {},
   "source": [
    "Из предложенных трёх вариантов решения остаются только два:\n",
    "\n",
    "- Остановить тест, зафиксировать победу одной из групп; \n",
    "\n",
    "- Продолжить тест."
   ]
  },
  {
   "cell_type": "markdown",
   "id": "9822401e",
   "metadata": {},
   "source": [
    "Против продолжения теста есть следующие аргументы:\n",
    "- продолжая тест, мы аккумулируем упущенную выгоду, потому что пользователи, попавшие в группу А, недоконвертируются;\n",
    "- продолжая тест, мы тратим ресурсы (время и, возможно, деньги)."
   ]
  },
  {
   "cell_type": "markdown",
   "id": "3b787994",
   "metadata": {},
   "source": [
    "Таком образом, фиксируем останавливаем тест и фиксируем победу группы В."
   ]
  },
  {
   "cell_type": "markdown",
   "id": "d52fb283",
   "metadata": {},
   "source": [
    "<a id='p3'></a>\n",
    "## Вывод"
   ]
  },
  {
   "cell_type": "markdown",
   "id": "5fdc4d84",
   "metadata": {},
   "source": [
    "На 99% мы можем быть уверены, что стоит остановить тест и зафисировать победу группы В.\n",
    "\n",
    "Конверсия группы В лучше на 16.4%.\n",
    "\n",
    "Средние чеки у обеих групп одинаковые."
   ]
  }
 ],
 "metadata": {
  "ExecuteTimeLog": [
   {
    "duration": 1348,
    "start_time": "2022-06-14T18:01:13.774Z"
   },
   {
    "duration": 196,
    "start_time": "2022-06-14T18:01:15.126Z"
   },
   {
    "duration": 18,
    "start_time": "2022-06-14T18:01:15.324Z"
   },
   {
    "duration": 3,
    "start_time": "2022-06-14T18:01:15.344Z"
   },
   {
    "duration": 9,
    "start_time": "2022-06-14T18:01:15.348Z"
   },
   {
    "duration": 28,
    "start_time": "2022-06-14T18:01:15.358Z"
   },
   {
    "duration": 15,
    "start_time": "2022-06-14T18:01:15.388Z"
   },
   {
    "duration": 21,
    "start_time": "2022-06-14T18:01:15.404Z"
   },
   {
    "duration": 27,
    "start_time": "2022-06-14T18:01:15.427Z"
   },
   {
    "duration": 10,
    "start_time": "2022-06-14T18:01:15.456Z"
   },
   {
    "duration": 22,
    "start_time": "2022-06-14T18:01:15.467Z"
   },
   {
    "duration": 26,
    "start_time": "2022-06-14T18:01:15.490Z"
   },
   {
    "duration": 19,
    "start_time": "2022-06-14T18:01:15.517Z"
   },
   {
    "duration": 17,
    "start_time": "2022-06-14T18:01:15.538Z"
   },
   {
    "duration": 12,
    "start_time": "2022-06-14T18:01:15.557Z"
   },
   {
    "duration": 16,
    "start_time": "2022-06-14T18:01:15.571Z"
   },
   {
    "duration": 6,
    "start_time": "2022-06-14T18:01:15.589Z"
   },
   {
    "duration": 8,
    "start_time": "2022-06-14T18:01:15.597Z"
   },
   {
    "duration": 6,
    "start_time": "2022-06-14T18:01:15.606Z"
   },
   {
    "duration": 16,
    "start_time": "2022-06-14T18:01:15.613Z"
   },
   {
    "duration": 217,
    "start_time": "2022-06-14T18:01:15.631Z"
   },
   {
    "duration": 6,
    "start_time": "2022-06-14T18:01:15.850Z"
   },
   {
    "duration": 12,
    "start_time": "2022-06-14T18:01:15.858Z"
   },
   {
    "duration": 14,
    "start_time": "2022-06-14T18:01:15.872Z"
   },
   {
    "duration": 12,
    "start_time": "2022-06-14T18:01:15.888Z"
   },
   {
    "duration": 28,
    "start_time": "2022-06-14T18:01:15.901Z"
   },
   {
    "duration": 159,
    "start_time": "2022-06-14T18:01:15.931Z"
   },
   {
    "duration": 118,
    "start_time": "2022-06-14T18:01:16.094Z"
   },
   {
    "duration": 13,
    "start_time": "2022-06-14T18:01:16.226Z"
   },
   {
    "duration": 297,
    "start_time": "2022-06-14T18:01:16.240Z"
   },
   {
    "duration": 256,
    "start_time": "2022-06-14T18:01:16.539Z"
   },
   {
    "duration": 9,
    "start_time": "2022-06-14T18:01:16.796Z"
   },
   {
    "duration": 376,
    "start_time": "2022-06-14T18:01:16.807Z"
   },
   {
    "duration": 309,
    "start_time": "2022-06-14T18:01:17.184Z"
   },
   {
    "duration": 14,
    "start_time": "2022-06-14T18:01:17.495Z"
   },
   {
    "duration": 354,
    "start_time": "2022-06-14T18:01:17.526Z"
   },
   {
    "duration": 12,
    "start_time": "2022-06-14T18:01:17.882Z"
   },
   {
    "duration": 201,
    "start_time": "2022-06-14T18:01:17.896Z"
   },
   {
    "duration": 5,
    "start_time": "2022-06-14T18:01:18.100Z"
   },
   {
    "duration": 27,
    "start_time": "2022-06-14T18:01:18.107Z"
   },
   {
    "duration": 198,
    "start_time": "2022-06-14T18:01:18.136Z"
   },
   {
    "duration": 231,
    "start_time": "2022-06-14T18:01:18.336Z"
   },
   {
    "duration": 6,
    "start_time": "2022-06-14T18:01:18.569Z"
   },
   {
    "duration": 10,
    "start_time": "2022-06-14T18:01:18.577Z"
   },
   {
    "duration": 17,
    "start_time": "2022-06-14T18:01:18.589Z"
   },
   {
    "duration": 89,
    "start_time": "2022-06-14T18:01:18.608Z"
   },
   {
    "duration": 25,
    "start_time": "2022-06-14T18:01:18.699Z"
   },
   {
    "duration": 25,
    "start_time": "2022-06-14T18:01:18.726Z"
   },
   {
    "duration": 17,
    "start_time": "2022-06-14T18:01:18.754Z"
   },
   {
    "duration": 134,
    "start_time": "2022-06-14T18:01:18.773Z"
   },
   {
    "duration": 25,
    "start_time": "2022-06-14T18:01:18.909Z"
   },
   {
    "duration": 48,
    "start_time": "2022-06-14T18:01:18.936Z"
   },
   {
    "duration": 42,
    "start_time": "2022-06-14T18:01:18.986Z"
   },
   {
    "duration": 12,
    "start_time": "2022-06-14T18:01:19.030Z"
   },
   {
    "duration": 7,
    "start_time": "2022-06-14T18:01:19.044Z"
   },
   {
    "duration": 18,
    "start_time": "2022-06-14T18:01:19.053Z"
   },
   {
    "duration": 13,
    "start_time": "2022-06-14T18:01:19.073Z"
   },
   {
    "duration": 17,
    "start_time": "2022-06-14T18:01:19.088Z"
   },
   {
    "duration": 12,
    "start_time": "2022-06-14T18:01:19.107Z"
   },
   {
    "duration": 13,
    "start_time": "2022-06-14T18:01:19.126Z"
   },
   {
    "duration": 31,
    "start_time": "2022-06-14T18:01:19.140Z"
   },
   {
    "duration": 4,
    "start_time": "2022-06-14T18:01:19.174Z"
   },
   {
    "duration": 23,
    "start_time": "2022-06-14T18:01:19.180Z"
   },
   {
    "duration": 9,
    "start_time": "2022-06-14T18:01:19.205Z"
   },
   {
    "duration": 19,
    "start_time": "2022-06-14T18:01:19.226Z"
   },
   {
    "duration": 20,
    "start_time": "2022-06-14T18:01:19.251Z"
   },
   {
    "duration": 22,
    "start_time": "2022-06-14T18:01:19.273Z"
   },
   {
    "duration": 27,
    "start_time": "2022-06-14T18:01:19.298Z"
   },
   {
    "duration": 16,
    "start_time": "2022-06-14T18:01:19.328Z"
   },
   {
    "duration": 11,
    "start_time": "2022-06-14T18:01:19.346Z"
   },
   {
    "duration": 1450,
    "start_time": "2022-06-14T18:05:45.388Z"
   },
   {
    "duration": 81,
    "start_time": "2022-06-14T18:05:46.840Z"
   },
   {
    "duration": 24,
    "start_time": "2022-06-14T18:05:46.922Z"
   },
   {
    "duration": 3,
    "start_time": "2022-06-14T18:05:46.948Z"
   },
   {
    "duration": 14,
    "start_time": "2022-06-14T18:05:46.953Z"
   },
   {
    "duration": 22,
    "start_time": "2022-06-14T18:05:46.968Z"
   },
   {
    "duration": 35,
    "start_time": "2022-06-14T18:05:46.992Z"
   },
   {
    "duration": 7,
    "start_time": "2022-06-14T18:05:47.030Z"
   },
   {
    "duration": 9,
    "start_time": "2022-06-14T18:05:47.039Z"
   },
   {
    "duration": 7,
    "start_time": "2022-06-14T18:05:47.050Z"
   },
   {
    "duration": 14,
    "start_time": "2022-06-14T18:05:47.059Z"
   },
   {
    "duration": 11,
    "start_time": "2022-06-14T18:05:47.075Z"
   },
   {
    "duration": 10,
    "start_time": "2022-06-14T18:05:47.088Z"
   },
   {
    "duration": 5,
    "start_time": "2022-06-14T18:05:47.125Z"
   },
   {
    "duration": 6,
    "start_time": "2022-06-14T18:05:47.132Z"
   },
   {
    "duration": 19,
    "start_time": "2022-06-14T18:05:47.140Z"
   },
   {
    "duration": 6,
    "start_time": "2022-06-14T18:05:47.162Z"
   },
   {
    "duration": 14,
    "start_time": "2022-06-14T18:05:47.170Z"
   },
   {
    "duration": 44,
    "start_time": "2022-06-14T18:05:47.187Z"
   },
   {
    "duration": 9,
    "start_time": "2022-06-14T18:05:47.232Z"
   },
   {
    "duration": 271,
    "start_time": "2022-06-14T18:05:47.243Z"
   },
   {
    "duration": 11,
    "start_time": "2022-06-14T18:05:47.516Z"
   },
   {
    "duration": 14,
    "start_time": "2022-06-14T18:05:47.529Z"
   },
   {
    "duration": 23,
    "start_time": "2022-06-14T18:05:47.546Z"
   },
   {
    "duration": 26,
    "start_time": "2022-06-14T18:05:47.572Z"
   },
   {
    "duration": 15,
    "start_time": "2022-06-14T18:05:47.600Z"
   },
   {
    "duration": 188,
    "start_time": "2022-06-14T18:05:47.627Z"
   },
   {
    "duration": 147,
    "start_time": "2022-06-14T18:05:47.818Z"
   },
   {
    "duration": 17,
    "start_time": "2022-06-14T18:05:47.968Z"
   },
   {
    "duration": 307,
    "start_time": "2022-06-14T18:05:47.987Z"
   },
   {
    "duration": 221,
    "start_time": "2022-06-14T18:05:48.295Z"
   },
   {
    "duration": 15,
    "start_time": "2022-06-14T18:05:48.518Z"
   },
   {
    "duration": 339,
    "start_time": "2022-06-14T18:05:48.534Z"
   },
   {
    "duration": 273,
    "start_time": "2022-06-14T18:05:48.875Z"
   },
   {
    "duration": 11,
    "start_time": "2022-06-14T18:05:49.149Z"
   },
   {
    "duration": 306,
    "start_time": "2022-06-14T18:05:49.161Z"
   },
   {
    "duration": 9,
    "start_time": "2022-06-14T18:05:49.468Z"
   },
   {
    "duration": 163,
    "start_time": "2022-06-14T18:05:49.478Z"
   },
   {
    "duration": 4,
    "start_time": "2022-06-14T18:05:49.643Z"
   },
   {
    "duration": 14,
    "start_time": "2022-06-14T18:05:49.648Z"
   },
   {
    "duration": 172,
    "start_time": "2022-06-14T18:05:49.665Z"
   },
   {
    "duration": 185,
    "start_time": "2022-06-14T18:05:49.838Z"
   },
   {
    "duration": 5,
    "start_time": "2022-06-14T18:05:50.025Z"
   },
   {
    "duration": 12,
    "start_time": "2022-06-14T18:05:50.032Z"
   },
   {
    "duration": 17,
    "start_time": "2022-06-14T18:05:50.045Z"
   },
   {
    "duration": 83,
    "start_time": "2022-06-14T18:05:50.063Z"
   },
   {
    "duration": 13,
    "start_time": "2022-06-14T18:05:50.147Z"
   },
   {
    "duration": 13,
    "start_time": "2022-06-14T18:05:50.161Z"
   },
   {
    "duration": 9,
    "start_time": "2022-06-14T18:05:50.175Z"
   },
   {
    "duration": 94,
    "start_time": "2022-06-14T18:05:50.186Z"
   },
   {
    "duration": 9,
    "start_time": "2022-06-14T18:05:50.282Z"
   },
   {
    "duration": 37,
    "start_time": "2022-06-14T18:05:50.293Z"
   },
   {
    "duration": 9,
    "start_time": "2022-06-14T18:05:50.331Z"
   },
   {
    "duration": 9,
    "start_time": "2022-06-14T18:05:50.342Z"
   },
   {
    "duration": 6,
    "start_time": "2022-06-14T18:05:50.353Z"
   },
   {
    "duration": 5,
    "start_time": "2022-06-14T18:05:50.360Z"
   },
   {
    "duration": 5,
    "start_time": "2022-06-14T18:05:50.366Z"
   },
   {
    "duration": 5,
    "start_time": "2022-06-14T18:05:50.372Z"
   },
   {
    "duration": 5,
    "start_time": "2022-06-14T18:05:50.379Z"
   },
   {
    "duration": 5,
    "start_time": "2022-06-14T18:05:50.386Z"
   },
   {
    "duration": 18,
    "start_time": "2022-06-14T18:05:50.425Z"
   },
   {
    "duration": 3,
    "start_time": "2022-06-14T18:05:50.445Z"
   },
   {
    "duration": 12,
    "start_time": "2022-06-14T18:05:50.449Z"
   },
   {
    "duration": 6,
    "start_time": "2022-06-14T18:05:50.462Z"
   },
   {
    "duration": 11,
    "start_time": "2022-06-14T18:05:50.469Z"
   },
   {
    "duration": 52,
    "start_time": "2022-06-14T18:05:50.481Z"
   },
   {
    "duration": 17,
    "start_time": "2022-06-14T18:05:50.535Z"
   },
   {
    "duration": 3,
    "start_time": "2022-06-14T18:05:50.554Z"
   },
   {
    "duration": 11,
    "start_time": "2022-06-14T18:05:50.558Z"
   },
   {
    "duration": 6,
    "start_time": "2022-06-14T18:05:50.570Z"
   },
   {
    "duration": 1238,
    "start_time": "2022-06-16T06:11:32.777Z"
   },
   {
    "duration": 133,
    "start_time": "2022-06-16T06:11:34.019Z"
   },
   {
    "duration": 30,
    "start_time": "2022-06-16T06:11:34.154Z"
   },
   {
    "duration": 14,
    "start_time": "2022-06-16T06:11:34.186Z"
   },
   {
    "duration": 28,
    "start_time": "2022-06-16T06:11:34.203Z"
   },
   {
    "duration": 74,
    "start_time": "2022-06-16T06:11:34.233Z"
   },
   {
    "duration": 17,
    "start_time": "2022-06-16T06:11:34.309Z"
   },
   {
    "duration": 45,
    "start_time": "2022-06-16T06:11:34.334Z"
   },
   {
    "duration": 17,
    "start_time": "2022-06-16T06:11:34.381Z"
   },
   {
    "duration": 5,
    "start_time": "2022-06-16T06:11:34.401Z"
   },
   {
    "duration": 8,
    "start_time": "2022-06-16T06:11:34.408Z"
   },
   {
    "duration": 40,
    "start_time": "2022-06-16T06:11:34.418Z"
   },
   {
    "duration": 34,
    "start_time": "2022-06-16T06:11:34.460Z"
   },
   {
    "duration": 12,
    "start_time": "2022-06-16T06:11:34.498Z"
   },
   {
    "duration": 26,
    "start_time": "2022-06-16T06:11:34.513Z"
   },
   {
    "duration": 33,
    "start_time": "2022-06-16T06:11:34.541Z"
   },
   {
    "duration": 30,
    "start_time": "2022-06-16T06:11:34.577Z"
   },
   {
    "duration": 24,
    "start_time": "2022-06-16T06:11:34.609Z"
   },
   {
    "duration": 15,
    "start_time": "2022-06-16T06:11:34.637Z"
   },
   {
    "duration": 70,
    "start_time": "2022-06-16T06:11:34.658Z"
   },
   {
    "duration": 6,
    "start_time": "2022-06-16T06:11:34.729Z"
   },
   {
    "duration": 70,
    "start_time": "2022-06-16T06:11:34.737Z"
   },
   {
    "duration": 74,
    "start_time": "2022-06-16T06:11:34.809Z"
   },
   {
    "duration": 21,
    "start_time": "2022-06-16T06:11:34.891Z"
   },
   {
    "duration": 372,
    "start_time": "2022-06-16T06:11:34.914Z"
   },
   {
    "duration": 8,
    "start_time": "2022-06-16T06:11:35.289Z"
   },
   {
    "duration": 44,
    "start_time": "2022-06-16T06:11:35.299Z"
   },
   {
    "duration": 87,
    "start_time": "2022-06-16T06:11:35.345Z"
   },
   {
    "duration": 66,
    "start_time": "2022-06-16T06:11:35.435Z"
   },
   {
    "duration": 32,
    "start_time": "2022-06-16T06:11:35.503Z"
   },
   {
    "duration": 256,
    "start_time": "2022-06-16T06:11:35.538Z"
   },
   {
    "duration": 139,
    "start_time": "2022-06-16T06:11:35.796Z"
   },
   {
    "duration": 31,
    "start_time": "2022-06-16T06:11:35.936Z"
   },
   {
    "duration": 561,
    "start_time": "2022-06-16T06:11:35.968Z"
   },
   {
    "duration": 372,
    "start_time": "2022-06-16T06:11:36.531Z"
   },
   {
    "duration": 20,
    "start_time": "2022-06-16T06:11:36.907Z"
   },
   {
    "duration": 531,
    "start_time": "2022-06-16T06:11:36.940Z"
   },
   {
    "duration": 478,
    "start_time": "2022-06-16T06:11:37.473Z"
   },
   {
    "duration": 20,
    "start_time": "2022-06-16T06:11:37.953Z"
   },
   {
    "duration": 364,
    "start_time": "2022-06-16T06:11:37.975Z"
   },
   {
    "duration": 12,
    "start_time": "2022-06-16T06:11:38.345Z"
   },
   {
    "duration": 354,
    "start_time": "2022-06-16T06:11:38.359Z"
   },
   {
    "duration": 19,
    "start_time": "2022-06-16T06:11:38.715Z"
   },
   {
    "duration": 104,
    "start_time": "2022-06-16T06:11:38.738Z"
   },
   {
    "duration": 317,
    "start_time": "2022-06-16T06:11:38.848Z"
   },
   {
    "duration": 262,
    "start_time": "2022-06-16T06:11:39.171Z"
   },
   {
    "duration": 18,
    "start_time": "2022-06-16T06:11:39.444Z"
   },
   {
    "duration": 50,
    "start_time": "2022-06-16T06:11:39.468Z"
   },
   {
    "duration": 92,
    "start_time": "2022-06-16T06:11:39.520Z"
   },
   {
    "duration": 188,
    "start_time": "2022-06-16T06:11:39.614Z"
   },
   {
    "duration": 17,
    "start_time": "2022-06-16T06:11:39.804Z"
   },
   {
    "duration": 56,
    "start_time": "2022-06-16T06:11:39.832Z"
   },
   {
    "duration": 46,
    "start_time": "2022-06-16T06:11:39.890Z"
   },
   {
    "duration": 155,
    "start_time": "2022-06-16T06:11:39.945Z"
   },
   {
    "duration": 21,
    "start_time": "2022-06-16T06:11:40.102Z"
   },
   {
    "duration": 59,
    "start_time": "2022-06-16T06:11:40.125Z"
   },
   {
    "duration": 54,
    "start_time": "2022-06-16T06:11:40.188Z"
   },
   {
    "duration": 52,
    "start_time": "2022-06-16T06:11:40.253Z"
   },
   {
    "duration": 27,
    "start_time": "2022-06-16T06:11:40.307Z"
   },
   {
    "duration": 60,
    "start_time": "2022-06-16T06:11:40.339Z"
   },
   {
    "duration": 34,
    "start_time": "2022-06-16T06:11:40.401Z"
   },
   {
    "duration": 77,
    "start_time": "2022-06-16T06:11:40.437Z"
   },
   {
    "duration": 77,
    "start_time": "2022-06-16T06:11:40.516Z"
   },
   {
    "duration": 23,
    "start_time": "2022-06-16T06:11:40.595Z"
   },
   {
    "duration": 96,
    "start_time": "2022-06-16T06:11:40.620Z"
   },
   {
    "duration": 5,
    "start_time": "2022-06-16T06:11:40.718Z"
   },
   {
    "duration": 90,
    "start_time": "2022-06-16T06:11:40.725Z"
   },
   {
    "duration": 79,
    "start_time": "2022-06-16T06:11:40.817Z"
   },
   {
    "duration": 40,
    "start_time": "2022-06-16T06:11:40.898Z"
   },
   {
    "duration": 72,
    "start_time": "2022-06-16T06:11:40.946Z"
   },
   {
    "duration": 122,
    "start_time": "2022-06-16T06:11:41.022Z"
   },
   {
    "duration": 13,
    "start_time": "2022-06-16T06:11:41.146Z"
   },
   {
    "duration": 46,
    "start_time": "2022-06-16T06:11:41.161Z"
   },
   {
    "duration": 25,
    "start_time": "2022-06-16T06:11:41.209Z"
   },
   {
    "duration": 1391,
    "start_time": "2022-06-16T06:13:02.604Z"
   },
   {
    "duration": 115,
    "start_time": "2022-06-16T06:13:03.999Z"
   },
   {
    "duration": 29,
    "start_time": "2022-06-16T06:13:04.116Z"
   },
   {
    "duration": 48,
    "start_time": "2022-06-16T06:13:04.147Z"
   },
   {
    "duration": 25,
    "start_time": "2022-06-16T06:13:04.196Z"
   },
   {
    "duration": 77,
    "start_time": "2022-06-16T06:13:04.223Z"
   },
   {
    "duration": 15,
    "start_time": "2022-06-16T06:13:04.301Z"
   },
   {
    "duration": 73,
    "start_time": "2022-06-16T06:13:04.317Z"
   },
   {
    "duration": 22,
    "start_time": "2022-06-16T06:13:04.393Z"
   },
   {
    "duration": 66,
    "start_time": "2022-06-16T06:13:04.419Z"
   },
   {
    "duration": 42,
    "start_time": "2022-06-16T06:13:04.490Z"
   },
   {
    "duration": 45,
    "start_time": "2022-06-16T06:13:04.538Z"
   },
   {
    "duration": 22,
    "start_time": "2022-06-16T06:13:04.586Z"
   },
   {
    "duration": 31,
    "start_time": "2022-06-16T06:13:04.610Z"
   },
   {
    "duration": 51,
    "start_time": "2022-06-16T06:13:04.643Z"
   },
   {
    "duration": 17,
    "start_time": "2022-06-16T06:13:04.696Z"
   },
   {
    "duration": 30,
    "start_time": "2022-06-16T06:13:04.715Z"
   },
   {
    "duration": 44,
    "start_time": "2022-06-16T06:13:04.747Z"
   },
   {
    "duration": 15,
    "start_time": "2022-06-16T06:13:04.793Z"
   },
   {
    "duration": 37,
    "start_time": "2022-06-16T06:13:04.810Z"
   },
   {
    "duration": 16,
    "start_time": "2022-06-16T06:13:04.854Z"
   },
   {
    "duration": 38,
    "start_time": "2022-06-16T06:13:04.871Z"
   },
   {
    "duration": 83,
    "start_time": "2022-06-16T06:13:04.913Z"
   },
   {
    "duration": 15,
    "start_time": "2022-06-16T06:13:04.998Z"
   },
   {
    "duration": 349,
    "start_time": "2022-06-16T06:13:05.015Z"
   },
   {
    "duration": 8,
    "start_time": "2022-06-16T06:13:05.369Z"
   },
   {
    "duration": 26,
    "start_time": "2022-06-16T06:13:05.381Z"
   },
   {
    "duration": 22,
    "start_time": "2022-06-16T06:13:05.414Z"
   },
   {
    "duration": 65,
    "start_time": "2022-06-16T06:13:05.439Z"
   },
   {
    "duration": 26,
    "start_time": "2022-06-16T06:13:05.506Z"
   },
   {
    "duration": 249,
    "start_time": "2022-06-16T06:13:05.539Z"
   },
   {
    "duration": 124,
    "start_time": "2022-06-16T06:13:05.790Z"
   },
   {
    "duration": 56,
    "start_time": "2022-06-16T06:13:05.916Z"
   },
   {
    "duration": 439,
    "start_time": "2022-06-16T06:13:05.979Z"
   },
   {
    "duration": 396,
    "start_time": "2022-06-16T06:13:06.422Z"
   },
   {
    "duration": 33,
    "start_time": "2022-06-16T06:13:06.821Z"
   },
   {
    "duration": 499,
    "start_time": "2022-06-16T06:13:06.861Z"
   },
   {
    "duration": 416,
    "start_time": "2022-06-16T06:13:07.362Z"
   },
   {
    "duration": 15,
    "start_time": "2022-06-16T06:13:07.780Z"
   },
   {
    "duration": 442,
    "start_time": "2022-06-16T06:13:07.797Z"
   },
   {
    "duration": 24,
    "start_time": "2022-06-16T06:13:08.241Z"
   },
   {
    "duration": 239,
    "start_time": "2022-06-16T06:13:08.271Z"
   },
   {
    "duration": 6,
    "start_time": "2022-06-16T06:13:08.512Z"
   },
   {
    "duration": 78,
    "start_time": "2022-06-16T06:13:08.520Z"
   },
   {
    "duration": 284,
    "start_time": "2022-06-16T06:13:08.600Z"
   },
   {
    "duration": 287,
    "start_time": "2022-06-16T06:13:08.886Z"
   },
   {
    "duration": 5,
    "start_time": "2022-06-16T06:13:09.176Z"
   },
   {
    "duration": 71,
    "start_time": "2022-06-16T06:13:09.183Z"
   },
   {
    "duration": 69,
    "start_time": "2022-06-16T06:13:09.256Z"
   },
   {
    "duration": 153,
    "start_time": "2022-06-16T06:13:09.332Z"
   },
   {
    "duration": 20,
    "start_time": "2022-06-16T06:13:09.487Z"
   },
   {
    "duration": 33,
    "start_time": "2022-06-16T06:13:09.509Z"
   },
   {
    "duration": 48,
    "start_time": "2022-06-16T06:13:09.551Z"
   },
   {
    "duration": 107,
    "start_time": "2022-06-16T06:13:09.601Z"
   },
   {
    "duration": 22,
    "start_time": "2022-06-16T06:13:09.716Z"
   },
   {
    "duration": 79,
    "start_time": "2022-06-16T06:13:09.740Z"
   },
   {
    "duration": 62,
    "start_time": "2022-06-16T06:13:09.821Z"
   },
   {
    "duration": 12,
    "start_time": "2022-06-16T06:13:09.885Z"
   },
   {
    "duration": 11,
    "start_time": "2022-06-16T06:13:09.898Z"
   },
   {
    "duration": 8,
    "start_time": "2022-06-16T06:13:09.911Z"
   },
   {
    "duration": 7,
    "start_time": "2022-06-16T06:13:09.921Z"
   },
   {
    "duration": 64,
    "start_time": "2022-06-16T06:13:09.929Z"
   },
   {
    "duration": 9,
    "start_time": "2022-06-16T06:13:09.997Z"
   },
   {
    "duration": 9,
    "start_time": "2022-06-16T06:13:10.007Z"
   },
   {
    "duration": 42,
    "start_time": "2022-06-16T06:13:10.019Z"
   },
   {
    "duration": 33,
    "start_time": "2022-06-16T06:13:10.063Z"
   },
   {
    "duration": 14,
    "start_time": "2022-06-16T06:13:10.099Z"
   },
   {
    "duration": 11,
    "start_time": "2022-06-16T06:13:10.115Z"
   },
   {
    "duration": 62,
    "start_time": "2022-06-16T06:13:10.131Z"
   },
   {
    "duration": 15,
    "start_time": "2022-06-16T06:13:10.195Z"
   },
   {
    "duration": 60,
    "start_time": "2022-06-16T06:13:10.211Z"
   },
   {
    "duration": 7,
    "start_time": "2022-06-16T06:13:10.273Z"
   },
   {
    "duration": 31,
    "start_time": "2022-06-16T06:13:10.281Z"
   },
   {
    "duration": 10,
    "start_time": "2022-06-16T06:13:10.314Z"
   }
  ],
  "kernelspec": {
   "display_name": "Python 3 (ipykernel)",
   "language": "python",
   "name": "python3"
  },
  "language_info": {
   "codemirror_mode": {
    "name": "ipython",
    "version": 3
   },
   "file_extension": ".py",
   "mimetype": "text/x-python",
   "name": "python",
   "nbconvert_exporter": "python",
   "pygments_lexer": "ipython3",
   "version": "3.9.7"
  },
  "toc": {
   "base_numbering": 1,
   "nav_menu": {},
   "number_sections": true,
   "sideBar": true,
   "skip_h1_title": true,
   "title_cell": "Table of Contents",
   "title_sidebar": "Contents",
   "toc_cell": false,
   "toc_position": {},
   "toc_section_display": true,
   "toc_window_display": false
  }
 },
 "nbformat": 4,
 "nbformat_minor": 5
}
